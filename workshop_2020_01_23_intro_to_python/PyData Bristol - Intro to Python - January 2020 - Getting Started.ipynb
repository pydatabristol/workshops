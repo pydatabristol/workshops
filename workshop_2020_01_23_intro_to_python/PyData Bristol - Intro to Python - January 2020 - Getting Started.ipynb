{
 "cells": [
  {
   "cell_type": "markdown",
   "metadata": {},
   "source": [
    "# Introduction to Python for Beginners\n",
    "### Getting Started\n",
    "* **PyData Bristol Meetup:** https://www.meetup.com/PyData-Bristol/events/267902147/\n",
    "* **Date:** Thu 23rd January 2020\n",
    "* **Instructor:** John Sandall\n",
    "* **Contact:** john@coefficient.ai / @john_sandall\n",
    "\n",
    "---"
   ]
  },
  {
   "cell_type": "markdown",
   "metadata": {},
   "source": [
    "# Introduction\n",
    "Have you ever felt that the world is more and more about technology to which you cannot (yet) relate? Have you ever thought that the software world is too complicated for you to even try doing something on your own?\n",
    "\n",
    "Well, we have good news for you! Programming is not as hard as it seems and we want to show you how fun it can be.\n",
    "\n",
    "This workshop will not magically turn you into a programmer. If you want to be good at it, you need months or even years of learning and practice. But we want to show you that programming is not as complicated as it seems. We will try to explain different bits and pieces as well as we can, so you will not feel intimidated by technology.\n",
    "\n",
    "We hope that we'll be able to make you love technology as much as we do!"
   ]
  },
  {
   "cell_type": "markdown",
   "metadata": {},
   "source": [
    "---\n",
    "# Anaconda\n",
    "\n",
    "We recommend that you install Python using Anaconda in order to follow along with this workshop.\n",
    "\n",
    "### What is Anaconda?\n",
    "\n",
    "Anaconda is \"Completely free enterprise-ready Python distribution for large-scale data processing, predictive analytics, and scientific computing.\" What this really means:\n",
    "\n",
    "* It's a prepackaged version of Python\n",
    "* It includes (mostly) everything that a data scientist would need from Python\n",
    "* It's free!\n",
    "\n",
    "### Installing Anaconda\n",
    "To get started, visit **[Anaconda.com](https://www.anaconda.com/distribution/)**, select your operating system and then **Python 3.7 64-bit graphical installer**.\n",
    "\n",
    "### Install problems?\n",
    "If you have any issues, you can also follow along with this workshop using either of the following options:\n",
    "  - [Google's Colaboratory](https://colab.research.google.com/). You will need a Google account for this. You may wish to watch this [3 minute intro video](https://youtu.be/inN8seMm7UI) or read through the [feature overview](https://colab.research.google.com/notebooks/basic_features_overview.ipynb).\n",
    "  - [IBM's Watson Studio](https://ibm.biz/Bd2brq). There are full instructions on [how to use Watson Studiop to run notebooks here](https://github.com/IBMDeveloperUK/python-geopandas-workshop#ibm-cloud).\n",
    "  - iPad? Use Colab/Watson/Azure to run your notebook, and then connect to it on your iPad using the excellent [Juno](https://juno.sh/) app for Jupyter."
   ]
  },
  {
   "cell_type": "markdown",
   "metadata": {},
   "source": [
    "---\n",
    "# Jupyter Notebook and JupyterLab"
   ]
  },
  {
   "cell_type": "markdown",
   "metadata": {},
   "source": [
    "### What is Jupyter?\n",
    "Anaconda comes with several ways to use Python: the Python console, Jupyter Notebook and JupyterLab. We'll learn to use JupyterLab today, which is a great tool for data exploration and analysis, and keeping your thoughts organized.\n",
    "\n",
    "#### Starting JupyterLab\n",
    "\n",
    "Search your computerr for the **Anaconda Navigator** app, and open it. It'll open something like the following:\n",
    "\n",
    "<img src='https://docs.anaconda.com/_images/nav-defaults.png' style='width: 80%' />\n",
    "\n",
    "Click on the JupyterLab \"launch button\" which will open a shell window that will then start the notebook. Please leave this window open until you are done with the notebook!\n",
    "\n",
    "> If you're comfortable with using the command-line, you can run JupyterLab by executing `jupyter lab`. This will open JupyterLab with the working directory set to wherever you have executed this command from.\n",
    "\n",
    "<img src='https://miro.medium.com/max/2026/1*g_nyFXnC8woT-7tQw5UJAA.gif' style='width: 80%' />\n",
    "\n",
    "JupyterLab runs as a _server_ on your computer, so it will open a window in your internet browser. Click File > New > Notebook and you're good to go!\n",
    "\n",
    "<img src='http://www.rpgroup.caltech.edu/ncbs_pboc/images/jupyter_lab_home.png' style='width: 80%' />\n",
    "\n",
    "<div class=\"alert alert-block alert-danger\">\n",
    "<b>Warning:</b> Note, if you have installed Python 2, some of today's material may not work.\n",
    "</div>\n",
    "\n",
    "Finally, you'll come to your notebook for today:\n",
    "\n",
    "<img src='http://www.rpgroup.caltech.edu/ncbs_pboc/images/jupyter_notebook_interface.png' style='width: 80%' />\n",
    "\n",
    "We'll be using the following practices to take advantage of the various parts of notebook:\n",
    "\n",
    "* the \"code\" cell allows us to run python code. It'll allow us to write multiple lines of code at a time.\n",
    "* the \"markdown\" cell allows us to save text, add images, etc. \n",
    "\n",
    "You can read more about [code cells vs markdown cells here](https://www.ibm.com/support/knowledgecenter/SSQNUZ_current/com.ibm.icpdata.doc/dsx/parts-of-a-notebook.html). IBM have created a great [Markdown cheatsheet for Jupyter Notebooks here](https://www.ibm.com/support/knowledgecenter/SSQNUZ_current/com.ibm.icpdata.doc/dsx/markd-jupyter.html)."
   ]
  },
  {
   "cell_type": "markdown",
   "metadata": {},
   "source": [
    "**Great work!** You're all set to use Jupyter to learn Python. If you'd like to learn about more about using JupyterLab and Jupyter Notebooks, check out:\n",
    "1. [Tutorial: Using Jupyter Notebooks and Jupyter Lab](http://www.rpgroup.caltech.edu/ncbs_pboc/code/t0b_jupyter_notebooks.html)\n",
    "2. [Jupyter Lab: Evolution of the Jupyter Notebook](https://towardsdatascience.com/jupyter-lab-evolution-of-the-jupyter-notebook-5297cacde6b)\n",
    "3. [JupyterLab Documentation](https://jupyterlab.readthedocs.io/en/stable/getting_started/overview.html)\n",
    "\n",
    "---\n",
    "\n",
    "> _Some content above has been adapted from the brilliant (and free!) [Django Girls Tutorial](https://tutorial.djangogirls.org/)._"
   ]
  }
 ],
 "metadata": {
  "kernelspec": {
   "display_name": "Python 3",
   "language": "python",
   "name": "python3"
  },
  "language_info": {
   "codemirror_mode": {
    "name": "ipython",
    "version": 3
   },
   "file_extension": ".py",
   "mimetype": "text/x-python",
   "name": "python",
   "nbconvert_exporter": "python",
   "pygments_lexer": "ipython3",
   "version": "3.7.3"
  }
 },
 "nbformat": 4,
 "nbformat_minor": 4
}
