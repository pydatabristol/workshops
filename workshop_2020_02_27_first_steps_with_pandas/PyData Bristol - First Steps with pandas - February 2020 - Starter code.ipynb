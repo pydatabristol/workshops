{
 "cells": [
  {
   "cell_type": "markdown",
   "metadata": {},
   "source": [
    "# First Steps with pandas\n",
    "### Starter Code\n",
    "* **PyData Bristol Meetup:** https://www.meetup.com/PyData-Bristol/events/268081062/\n",
    "* **Date:** Thu 27th February 2020\n",
    "* **Instructor:** John Sandall\n",
    "* **Contact:** john@coefficient.ai / [@john_sandall](https://twitter.com/john_sandall)\n",
    "\n",
    "<div class=\"alert alert-info\">\n",
    "    This workshop is sponsored by <a href=\"https://coefficient.ai/\">Coefficient</a>. If you are interested in either Python training for your company or organisation, or in consultancy services to help accelerate delivery of your data science, analytics, data engineering or machine learning projects, please visit <a href=\"https://coefficient.ai/\">https://coefficient.ai/</a> or you can contact me at <a href=\"mailto:john@coefficient.ai/\">john@coefficient.ai</a>\n",
    "</div>\n",
    "\n",
    "---"
   ]
  },
  {
   "cell_type": "markdown",
   "metadata": {},
   "source": [
    "# Packages in Python\n",
    "Packages are libraries of code written to solve a particular set of problems. Some are \"built-in\" and are part of Python. For example, the `math` module:"
   ]
  },
  {
   "cell_type": "code",
   "execution_count": null,
   "metadata": {},
   "outputs": [],
   "source": [
    "import math"
   ]
  },
  {
   "cell_type": "code",
   "execution_count": null,
   "metadata": {},
   "outputs": [],
   "source": [
    "math.pi"
   ]
  },
  {
   "cell_type": "markdown",
   "metadata": {},
   "source": [
    "You can import pi directly too:"
   ]
  },
  {
   "cell_type": "code",
   "execution_count": null,
   "metadata": {},
   "outputs": [],
   "source": [
    "from math import cos, pi"
   ]
  },
  {
   "cell_type": "code",
   "execution_count": null,
   "metadata": {},
   "outputs": [],
   "source": [
    "cos(pi)"
   ]
  },
  {
   "cell_type": "markdown",
   "metadata": {},
   "source": [
    "There are many \"third party\" (i.e. made by some Python enthusiast, so make sure you trust what you're installing!) Python packages relevant to data science and analytics. Commonly used are `pandas`, `scikit-learn`, `NumPy`, `matplotlib` and more.\n",
    "\n",
    "These can be installed with \"package managers\" such as [PIP](https://pypi.org/project/pip/) or [Conda](https://docs.conda.io/en/latest/). For example, if you installed Python using Anaconda, typing this into your command line will install the seaborn package:\n",
    "\n",
    "```\n",
    "conda install seaborn\n",
    "```\n",
    "\n",
    "You can reach your command-line on Windows by searching for \"Anaconda Prompt\" or on macOS by opening up a Terminal window. If you are using Jupyter Lab then it's even easier - just click \"New\" > \"Terminal\"."
   ]
  },
  {
   "cell_type": "markdown",
   "metadata": {},
   "source": [
    "### A small warning\n",
    "Ensure you trust the packages you're installing. Ask: who wrote this code? Do I trust giving their code access to my computer? **pip** especially can be a little more dangerous, anyone can upload something to PyPI (where pip installs from), so be careful especially as the [smallest typo can be a security risk](https://snyk.io/blog/malicious-packages-found-to-be-typo-squatting-in-pypi/). **conda** is more of a walled garden and as such much better positioned for enterprise usage."
   ]
  },
  {
   "cell_type": "markdown",
   "metadata": {},
   "source": [
    "### Some easter eggs"
   ]
  },
  {
   "cell_type": "code",
   "execution_count": null,
   "metadata": {},
   "outputs": [],
   "source": [
    "import this"
   ]
  },
  {
   "cell_type": "markdown",
   "metadata": {},
   "source": [
    "This is the philosophy of Python. It can help you understand which of two solutions is the most \"Pythonic\". My favourite: `Explicit is better than implicit`.\n",
    "\n",
    "This next one is an homage to the delightful xkcd webcomic:"
   ]
  },
  {
   "cell_type": "code",
   "execution_count": null,
   "metadata": {},
   "outputs": [],
   "source": [
    "import antigravity"
   ]
  },
  {
   "cell_type": "markdown",
   "metadata": {},
   "source": [
    "# Data Analysis Packages\n",
    "Data Scientists use a wide variety of libraries in Python that make working with data significantly easier. Those libraries primarily consist of:\n",
    "\n",
    "| Package | Description |\n",
    "| -- | -- |\n",
    "| `NumPy` | Numerical calculations - does all the heavy lifting by passing out to C subroutines. This means you get _both_ the productivity of Python, _and_ the computational power of C. Best of both worlds! |\n",
    "| `SciPy` | Scientific computing, statistic tests, and much more! |\n",
    "| `pandas` | Your data manipulation swiss army knife. You'll likely see pandas used in any PyData demo! pandas is built on top of NumPy, so it's **fast**. |\n",
    "| `matplotlib` | An old but powerful data visualisation package, inspired by Matlab. |\n",
    "| `Seaborn` | A newer and easy-to-use but limited data visualisation package, built on top of matplotlib. |\n",
    "| `scikit-learn` | Your one-stop machine learning shop! Classification, regression, clustering, dimensional reduction and more. |\n",
    "| `nltk` and `spacy` | nltk = natural language processing toolkit; spacy is a newer package for natural language processing but very easy to use. |\n",
    "| `statsmodels` | Statistical tests, time series forecasting and more. The \"model formula\" interface will be familiar to R users. |\n",
    "| `requests` and `Beautiful Soup` | `requests` + `Beautiful Soup` = great combination for building web scrapers. |\n",
    "| `Jupyter` | Jupyter itself is a package too. See the latest version at https://pypi.org/project/jupyter/, and upgrade with e.g. `conda install jupyter==1.0.0` |\n",
    "\n",
    "Though there are countless others available.\n",
    "\n",
    "For today, we'll primarily focus ourselves around the library that is 99% of our work: `pandas`. But first, pandas is built on top of the speed and power of NumPy, so let's dig into that briefly."
   ]
  },
  {
   "cell_type": "markdown",
   "metadata": {},
   "source": [
    "# NumPy is _fast_"
   ]
  },
  {
   "cell_type": "markdown",
   "metadata": {},
   "source": [
    "Import \"as np\" because Python programmers are lazy, and two letters beats five.\n",
    "\n",
    "> _\"I choose a lazy person to do a hard job. Because a lazy person will find an easy way to do it.\"_\n",
    "> – Bill Gates"
   ]
  },
  {
   "cell_type": "code",
   "execution_count": null,
   "metadata": {},
   "outputs": [],
   "source": [
    "import numpy as np"
   ]
  },
  {
   "cell_type": "code",
   "execution_count": null,
   "metadata": {},
   "outputs": [],
   "source": [
    "# Generate a random number between 1 and 100\n",
    "np.random.randint(1, 100)"
   ]
  },
  {
   "cell_type": "markdown",
   "metadata": {},
   "source": [
    "How does this function work? Let's use Jupyter's in-built help!"
   ]
  },
  {
   "cell_type": "code",
   "execution_count": null,
   "metadata": {},
   "outputs": [],
   "source": [
    "?np.random.randint"
   ]
  },
  {
   "cell_type": "markdown",
   "metadata": {},
   "source": [
    "---\n",
    "\n",
    "Let's create a randomly generated NumPy \"array\"."
   ]
  },
  {
   "cell_type": "code",
   "execution_count": null,
   "metadata": {},
   "outputs": [],
   "source": [
    "# Generate 100 random numbers between 1 and 100\n",
    "array = np.random.randint(1, 100, size=100)\n",
    "array"
   ]
  },
  {
   "cell_type": "markdown",
   "metadata": {},
   "source": [
    "Arrays behave a bit like Python lists. For example, you can slice them:"
   ]
  },
  {
   "cell_type": "code",
   "execution_count": null,
   "metadata": {},
   "outputs": [],
   "source": [
    "array[:5]"
   ]
  },
  {
   "cell_type": "markdown",
   "metadata": {},
   "source": [
    "But they're more powerful, they can do things Python lists don't know how to do:"
   ]
  },
  {
   "cell_type": "code",
   "execution_count": null,
   "metadata": {},
   "outputs": [],
   "source": [
    "print(array.mean())  # average\n",
    "print(array.sum())  # sum\n",
    "print(array.min())  # min"
   ]
  },
  {
   "cell_type": "markdown",
   "metadata": {},
   "source": [
    "---"
   ]
  },
  {
   "cell_type": "markdown",
   "metadata": {},
   "source": [
    "> **Exercise:** Use argmax and the array's index selector (e.g. array[3] gives element at position 3) to return the array's max value."
   ]
  },
  {
   "cell_type": "code",
   "execution_count": null,
   "metadata": {},
   "outputs": [],
   "source": [
    "# This is the maximum value in array\n",
    "print(\"Max value =\", array.max())\n",
    "\n",
    "# This is the index location of the maximum value in the array\n",
    "print(\"Index of max value =\", array.argmax())"
   ]
  },
  {
   "cell_type": "code",
   "execution_count": null,
   "metadata": {},
   "outputs": [],
   "source": [
    "# Exercise: Use argmax and the array's index selector (e.g. array[3] gives element at position 3)\n",
    "#           to return the array's max value.\n",
    "\n",
    "\n"
   ]
  },
  {
   "cell_type": "markdown",
   "metadata": {},
   "source": [
    "---"
   ]
  },
  {
   "cell_type": "markdown",
   "metadata": {},
   "source": [
    "We can \"chain\" these in-built functions like `randint` and `mean` all in one line:"
   ]
  },
  {
   "cell_type": "code",
   "execution_count": null,
   "metadata": {},
   "outputs": [],
   "source": [
    "# Average of 10000 random numbers between 1 and 100\n",
    "np.random.randint(1, 100, size=10000).mean()"
   ]
  },
  {
   "cell_type": "markdown",
   "metadata": {},
   "source": [
    "Finally, note how blazing fast NumPy is:"
   ]
  },
  {
   "cell_type": "code",
   "execution_count": null,
   "metadata": {},
   "outputs": [],
   "source": [
    "# Average of 1000000 random numbers between 1 and 100\n",
    "np.random.randint(1, 100, size=1000000).mean()"
   ]
  },
  {
   "cell_type": "markdown",
   "metadata": {},
   "source": [
    "---"
   ]
  },
  {
   "cell_type": "markdown",
   "metadata": {},
   "source": [
    "# Manipulating Data In Python Using Pandas"
   ]
  },
  {
   "cell_type": "markdown",
   "metadata": {},
   "source": [
    "[pandas](http://pandas.pydata.org/pandas-docs/stable/) is a library built on top of numpy, which allows us to use Excel-like tables in Python. These special tables are called DataFrames, the primary object in `pandas`."
   ]
  },
  {
   "cell_type": "markdown",
   "metadata": {},
   "source": [
    "Similar to before, `pd` is two characters whilst `pandas` is six. It's less to type. You could use anything (e.g. `import pandas as cute_bears`) but `pd` is a common convention."
   ]
  },
  {
   "cell_type": "code",
   "execution_count": null,
   "metadata": {},
   "outputs": [],
   "source": [
    "import pandas as pd"
   ]
  },
  {
   "cell_type": "markdown",
   "metadata": {},
   "source": [
    "## European Union 2016 membership referendum results\n",
    "> The United Kingdom's European Union membership referendum took place on 23 June 2016 to gauge support for the country either remaining a member of or leaving the European Union. The referendum resulted in a simple majority of 51.9% being in favour of leaving the EU.\n",
    "\n",
    "For this guided practice we will manually input data relating to the 2016 EU membership referendum.  We will apply the Python knowledge we have acquired and see how some popular modules such as pandas, numpy and matplotlib are used.\n",
    "\n",
    "Data source: https://en.wikipedia.org/wiki/United_Kingdom_European_Union_membership_referendum,_2016#Regional_count_results"
   ]
  },
  {
   "cell_type": "markdown",
   "metadata": {},
   "source": [
    "### 1. Create the dataset"
   ]
  },
  {
   "cell_type": "markdown",
   "metadata": {},
   "source": [
    "Let us first define some lists that can be used to create a pandas dataframe:"
   ]
  },
  {
   "cell_type": "code",
   "execution_count": null,
   "metadata": {},
   "outputs": [],
   "source": [
    "# Source: https://en.wikipedia.org/wiki/United_Kingdom_European_Union_membership_referendum,_2016#Regional_count_results\n",
    "regions  = [\n",
    "    'East Midlands',\n",
    "    'East of England',\n",
    "    'Greater London',\n",
    "    'North East England',\n",
    "    'North West England',\n",
    "    'Northern Ireland',\n",
    "    'Scotland',\n",
    "    'South East England',\n",
    "    'South West England',  # includes Gibraltar\n",
    "    'Wales',\n",
    "    'West Midlands',\n",
    "    'Yorkshire and the Humber'\n",
    "]"
   ]
  },
  {
   "cell_type": "markdown",
   "metadata": {},
   "source": [
    "Let us now list the electorate and turnout for the regions in question:"
   ]
  },
  {
   "cell_type": "code",
   "execution_count": null,
   "metadata": {},
   "outputs": [],
   "source": [
    "electorate = [\n",
    "    3384299,\n",
    "    4398796,\n",
    "    5424768,\n",
    "    1934341,\n",
    "    5241568,\n",
    "    1260955,\n",
    "    3987112,\n",
    "    6465404,\n",
    "    4138134,\n",
    "    2270272,\n",
    "    4116572,\n",
    "    3877780\n",
    "]\n",
    "\n",
    "turnout = [\n",
    "    .742,\n",
    "    .757,\n",
    "    .697,\n",
    "    .693,\n",
    "    .700,\n",
    "    .627,\n",
    "    .672,\n",
    "    .768,\n",
    "    .767,\n",
    "    .717,\n",
    "    .720,\n",
    "    .707\n",
    "]"
   ]
  },
  {
   "cell_type": "markdown",
   "metadata": {},
   "source": [
    "We are now ready to put all the information above in a single dataframe:"
   ]
  },
  {
   "cell_type": "code",
   "execution_count": null,
   "metadata": {},
   "outputs": [],
   "source": [
    "raw_data_dictionary = {\n",
    "    'region': regions,\n",
    "    'electorate': electorate,\n",
    "    'turnout': turnout\n",
    "}\n",
    "\n",
    "results = pd.DataFrame(raw_data_dictionary)"
   ]
  },
  {
   "cell_type": "code",
   "execution_count": null,
   "metadata": {},
   "outputs": [],
   "source": [
    "results"
   ]
  },
  {
   "cell_type": "markdown",
   "metadata": {},
   "source": [
    "### 2. Selecting columns"
   ]
  },
  {
   "cell_type": "markdown",
   "metadata": {},
   "source": [
    "How do we select a single column?"
   ]
  },
  {
   "cell_type": "code",
   "execution_count": null,
   "metadata": {},
   "outputs": [],
   "source": [
    "results[['region']]"
   ]
  },
  {
   "cell_type": "markdown",
   "metadata": {},
   "source": [
    "> **Exercise:** Try selecting just the turnout column."
   ]
  },
  {
   "cell_type": "code",
   "execution_count": null,
   "metadata": {},
   "outputs": [],
   "source": [
    "# Enter your answer here\n"
   ]
  },
  {
   "cell_type": "markdown",
   "metadata": {},
   "source": [
    "We can also select multiple columns:"
   ]
  },
  {
   "cell_type": "code",
   "execution_count": null,
   "metadata": {},
   "outputs": [],
   "source": [
    "results[['region', 'turnout']]"
   ]
  },
  {
   "cell_type": "markdown",
   "metadata": {},
   "source": [
    "**Don't forget** to use double brackets here! Technically, we're passing a list of column names into the DataFrame's `[]` selectors:"
   ]
  },
  {
   "cell_type": "code",
   "execution_count": null,
   "metadata": {},
   "outputs": [],
   "source": [
    "cols_to_select = ['region', 'turnout']\n",
    "results[cols_to_select]"
   ]
  },
  {
   "cell_type": "markdown",
   "metadata": {},
   "source": [
    "Let us take a look at the first 5 entries:"
   ]
  },
  {
   "cell_type": "code",
   "execution_count": null,
   "metadata": {},
   "outputs": [],
   "source": [
    "results.head()"
   ]
  },
  {
   "cell_type": "markdown",
   "metadata": {},
   "source": [
    "> **Exercise:** Copy the above and replace `.head()` with `.tail(10)` to get the last 10 entries in the dataframe."
   ]
  },
  {
   "cell_type": "code",
   "execution_count": null,
   "metadata": {},
   "outputs": [],
   "source": [
    "# Enter your answer here...\n"
   ]
  },
  {
   "cell_type": "markdown",
   "metadata": {},
   "source": [
    "### 3. Using `map()` and `apply()`"
   ]
  },
  {
   "cell_type": "code",
   "execution_count": null,
   "metadata": {},
   "outputs": [],
   "source": [
    "# What are the regions?\n",
    "results[['region']]"
   ]
  },
  {
   "cell_type": "code",
   "execution_count": null,
   "metadata": {},
   "outputs": [],
   "source": [
    "# We can get just the values like this (technical note, this is a pandas \"Series\")\n",
    "results.region"
   ]
  },
  {
   "cell_type": "code",
   "execution_count": null,
   "metadata": {},
   "outputs": [],
   "source": [
    "# We can turn the above into a normal Python list too\n",
    "results.region.tolist()"
   ]
  },
  {
   "cell_type": "code",
   "execution_count": null,
   "metadata": {},
   "outputs": [],
   "source": [
    "# Let's create a dictionary lookup from region to country\n",
    "countries = {\n",
    "    'East Midlands': 'England',\n",
    "    'East of England': 'England',\n",
    "    'Greater London': 'England',\n",
    "    'North East England': 'England',\n",
    "    'North West England': 'England',\n",
    "    'Northern Ireland': 'Northern Ireland',\n",
    "    'Scotland': 'Scotland',\n",
    "    'South East England': 'England',\n",
    "    'South West England': 'England',\n",
    "    'Wales': 'Wales',\n",
    "    'West Midlands': 'England',\n",
    "    'Yorkshire and the Humber': 'England'\n",
    "}"
   ]
  },
  {
   "cell_type": "code",
   "execution_count": null,
   "metadata": {},
   "outputs": [],
   "source": [
    "# We can now \"look up\" the country (i.e. dictionary london) associated with the\n",
    "# dictionary key for Greater London.\n",
    "countries['Greater London']"
   ]
  },
  {
   "cell_type": "markdown",
   "metadata": {},
   "source": [
    "How do we do a \"vlookup\" in pandas? We use the pandas `map()` method."
   ]
  },
  {
   "cell_type": "code",
   "execution_count": null,
   "metadata": {},
   "outputs": [],
   "source": [
    "# We can magically \"map\" regions to countries (n.b. this is temporary & does not change the results dataframe!)\n",
    "results.region.map(countries)"
   ]
  },
  {
   "cell_type": "markdown",
   "metadata": {},
   "source": [
    "We'd like to create a new column in our original table called \"country\". First, let's see how to create a new column in pandas."
   ]
  },
  {
   "cell_type": "code",
   "execution_count": null,
   "metadata": {},
   "outputs": [],
   "source": [
    "# This will add a new column with all values set to 123456789\n",
    "# (It's a bit like adding a new entry into a dictionary.)\n",
    "results['country'] = 123456789\n",
    "results  # remember, Jupyter Notebook always prints out the last line of each cell!"
   ]
  },
  {
   "cell_type": "code",
   "execution_count": null,
   "metadata": {},
   "outputs": [],
   "source": [
    "# Let's create/overwrite the new state_names column from out state name mapper\n",
    "results['country'] = results.region.map(countries)  # just like inserting a new value into a dict\n",
    "results"
   ]
  },
  {
   "cell_type": "markdown",
   "metadata": {},
   "source": [
    "Similarly, let's create a column to state the turnout as a formatted percentage and another one for the absolute turnout.\n",
    "\n",
    "Here's an easy way of doing this."
   ]
  },
  {
   "cell_type": "code",
   "execution_count": null,
   "metadata": {},
   "outputs": [],
   "source": [
    "# The easy way...\n",
    "results.turnout * 100"
   ]
  },
  {
   "cell_type": "markdown",
   "metadata": {},
   "source": [
    "For demonstration purposes, we'll do this the long way. Or rather, you will!"
   ]
  },
  {
   "cell_type": "markdown",
   "metadata": {},
   "source": [
    "> **Exercise:** Define a function called `percentage()` that takes a single argument `x` and returns `x` multiplied by 100."
   ]
  },
  {
   "cell_type": "code",
   "execution_count": null,
   "metadata": {},
   "outputs": [],
   "source": [
    "def percentage(x):\n",
    "    # return something here..."
   ]
  },
  {
   "cell_type": "markdown",
   "metadata": {},
   "source": [
    "> **Exercise:** You can now \"apply\" this function to one of the columns of our dataframe to create a new column. In the same way that we previously did `results.region.map()`, try `results.turnout.apply()`. Inside the brackets, enter just the name of the function you want to \"apply\" to the turnout column, i.e. `apply(percentage)`."
   ]
  },
  {
   "cell_type": "code",
   "execution_count": null,
   "metadata": {},
   "outputs": [],
   "source": [
    "# Remember, map() takes a dict as an argument, apply() takes a function\n"
   ]
  },
  {
   "cell_type": "markdown",
   "metadata": {},
   "source": [
    "> **Exercise:** Copy the last line of code into the cell below, and create a new column in our `results` dataframe called `turnout_percent` from your code in the exercise above."
   ]
  },
  {
   "cell_type": "code",
   "execution_count": null,
   "metadata": {},
   "outputs": [],
   "source": [
    "# ...\n"
   ]
  },
  {
   "cell_type": "code",
   "execution_count": null,
   "metadata": {},
   "outputs": [],
   "source": [
    "# You should now see the new `turnout_percent` column with 74.2 for East Midlands, 75.7 for East of England, etc.\n",
    "results"
   ]
  },
  {
   "cell_type": "markdown",
   "metadata": {},
   "source": [
    "### 4. Selecting rows, filtering & sorting\n",
    "How many columns and rows do we have in the dataframe?"
   ]
  },
  {
   "cell_type": "code",
   "execution_count": null,
   "metadata": {},
   "outputs": [],
   "source": [
    "results.shape"
   ]
  },
  {
   "cell_type": "markdown",
   "metadata": {},
   "source": [
    "We have 12 rows and 5 columns.\n",
    "\n",
    "Let us select some of the data points. For instance the first 4 entries for region and turnout_percent."
   ]
  },
  {
   "cell_type": "code",
   "execution_count": null,
   "metadata": {},
   "outputs": [],
   "source": [
    "results[['region', 'turnout_percent']][0:4]"
   ]
  },
  {
   "cell_type": "markdown",
   "metadata": {},
   "source": [
    "We can select some data based on conditional logic. For instance let us show only those records where the electorate is greater than 6 million people."
   ]
  },
  {
   "cell_type": "code",
   "execution_count": null,
   "metadata": {},
   "outputs": [],
   "source": [
    "electorate_filter = (results.electorate >= 6000000)  # brackets added for clarity, you don't need them here\n",
    "electorate_filter"
   ]
  },
  {
   "cell_type": "code",
   "execution_count": null,
   "metadata": {},
   "outputs": [],
   "source": [
    "results[electorate_filter]"
   ]
  },
  {
   "cell_type": "code",
   "execution_count": null,
   "metadata": {},
   "outputs": [],
   "source": [
    "# We can do this all in one go!\n",
    "results[results.electorate >= 6000000]"
   ]
  },
  {
   "cell_type": "code",
   "execution_count": null,
   "metadata": {},
   "outputs": [],
   "source": [
    "# pandas provides another way of doing this kind of query\n",
    "results.query('electorate >= 6000000')"
   ]
  },
  {
   "cell_type": "markdown",
   "metadata": {},
   "source": [
    "As we can see, only South East England meets the condition.\n",
    "\n",
    "Let's now try sorting the dataframe in descending order by the turnout."
   ]
  },
  {
   "cell_type": "code",
   "execution_count": null,
   "metadata": {},
   "outputs": [],
   "source": [
    "results.sort_values('turnout', ascending=False)"
   ]
  },
  {
   "cell_type": "markdown",
   "metadata": {},
   "source": [
    "A neat trick we can try is to get a description of each of the numeric fields in the dataframe. We will be able to see the following statistics:\n",
    "\n",
    "- count of records\n",
    "- mean\n",
    "- standard deviation\n",
    "- minimum and maximum values\n",
    "- percentiles"
   ]
  },
  {
   "cell_type": "code",
   "execution_count": null,
   "metadata": {},
   "outputs": [],
   "source": [
    "results.describe()"
   ]
  },
  {
   "cell_type": "markdown",
   "metadata": {},
   "source": [
    "### 5. Visualisation"
   ]
  },
  {
   "cell_type": "markdown",
   "metadata": {},
   "source": [
    "Finally, let's visualise this dataset. First, we need to enable plotting inside the Jupyter Notebook."
   ]
  },
  {
   "cell_type": "code",
   "execution_count": null,
   "metadata": {},
   "outputs": [],
   "source": [
    "# this line is a \"magic\" function, and allows plots to display inside our notebook\n",
    "%matplotlib inline"
   ]
  },
  {
   "cell_type": "code",
   "execution_count": null,
   "metadata": {},
   "outputs": [],
   "source": [
    "# You can plot pandas objects using the `.plot()` method on any dataframe\n",
    "results.turnout_percent.plot(kind='bar')"
   ]
  },
  {
   "cell_type": "code",
   "execution_count": null,
   "metadata": {},
   "outputs": [],
   "source": [
    "# We can also try seaborn\n",
    "import seaborn as sns\n",
    "\n",
    "sns.barplot(y='region', x='turnout_percent', data=results, orient='h')"
   ]
  },
  {
   "cell_type": "code",
   "execution_count": null,
   "metadata": {},
   "outputs": [],
   "source": [
    "# Let's sort the bars and add axis labels\n",
    "my_plot = sns.barplot(\n",
    "    y='region',\n",
    "    x='turnout_percent',\n",
    "    hue='country',\n",
    "    orient='h',\n",
    "    dodge=False,\n",
    "    data=results.sort_values('turnout_percent'),\n",
    ")\n",
    "my_plot.set(xlabel='Region', ylabel='Turnout (%)', title=\"Turnout by region\")"
   ]
  },
  {
   "cell_type": "code",
   "execution_count": null,
   "metadata": {},
   "outputs": [],
   "source": [
    "results.head()"
   ]
  },
  {
   "cell_type": "markdown",
   "metadata": {},
   "source": [
    "> **Exercise:** Using the seaborn [scatterplot](http://seaborn.pydata.org/generated/seaborn.scatterplot.html) function (`sns.scatterplot()`) create a scatterplot with:\n",
    "> - `'electorate'` on the x-axis\n",
    "> - `'turnout_percent'` on the y-axis\n",
    "> - you can keep `data=results`"
   ]
  },
  {
   "cell_type": "code",
   "execution_count": null,
   "metadata": {},
   "outputs": [],
   "source": [
    "# ...\n"
   ]
  },
  {
   "cell_type": "markdown",
   "metadata": {},
   "source": [
    "> **Exercise:** Add `hue='country'` to your code above to colour code by country."
   ]
  },
  {
   "cell_type": "code",
   "execution_count": null,
   "metadata": {},
   "outputs": [],
   "source": [
    "# ...\n"
   ]
  }
 ],
 "metadata": {
  "kernelspec": {
   "display_name": "Python 3",
   "language": "python",
   "name": "python3"
  },
  "language_info": {
   "codemirror_mode": {
    "name": "ipython",
    "version": 3
   },
   "file_extension": ".py",
   "mimetype": "text/x-python",
   "name": "python",
   "nbconvert_exporter": "python",
   "pygments_lexer": "ipython3",
   "version": "3.7.3"
  }
 },
 "nbformat": 4,
 "nbformat_minor": 4
}
