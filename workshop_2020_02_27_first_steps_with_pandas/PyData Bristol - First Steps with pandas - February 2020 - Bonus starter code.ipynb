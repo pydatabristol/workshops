{
 "cells": [
  {
   "cell_type": "markdown",
   "metadata": {},
   "source": [
    "# First Steps with pandas\n",
    "### Bonus Exercises: Starter Code\n",
    "* **PyData Bristol Meetup:** https://www.meetup.com/PyData-Bristol/events/268081062/\n",
    "* **Date:** Thu 27th February 2020\n",
    "* **Instructor:** John Sandall\n",
    "* **Contact:** john@coefficient.ai / [@john_sandall](https://twitter.com/john_sandall)\n",
    "\n",
    "<div class=\"alert alert-info\">\n",
    "    This workshop is sponsored by <a href=\"https://coefficient.ai/\">Coefficient</a>. If you are interested in either Python training for your company or organisation, or in consultancy services to help accelerate delivery of your data science, analytics, data engineering or machine learning projects, please visit <a href=\"https://coefficient.ai/\">https://coefficient.ai/</a> or you can contact me at <a href=\"mailto:john@coefficient.ai/\">john@coefficient.ai</a>\n",
    "</div>\n",
    "\n",
    "---"
   ]
  },
  {
   "cell_type": "code",
   "execution_count": null,
   "metadata": {},
   "outputs": [],
   "source": [
    "import pandas as pd\n",
    "import seaborn as sns"
   ]
  },
  {
   "cell_type": "markdown",
   "metadata": {},
   "source": [
    "## Detailed EU Referendum Results Data\n",
    "Source: https://github.com/six50/pipeline/tree/master/data/eu_referendum/electoral_commission/results\n",
    "\n",
    "Work through the following at your own pace. Some of this will recap what you've just learned. Some will be new."
   ]
  },
  {
   "cell_type": "markdown",
   "metadata": {},
   "source": [
    "---\n",
    "> Alternatively, in the cell below, you could download `EU-referendum-result-data.csv` to the same folder as this notebook and then run\n",
    "> \n",
    "> ```python\n",
    "> df = pd.read_csv('EU-referendum-result-data.csv')\n",
    "> ```\n",
    "---"
   ]
  },
  {
   "cell_type": "code",
   "execution_count": null,
   "metadata": {},
   "outputs": [],
   "source": [
    "df = pd.read_csv('https://s3-eu-west-1.amazonaws.com/sixfifty/EU-referendum-result-data.csv')\n",
    "df"
   ]
  },
  {
   "cell_type": "code",
   "execution_count": null,
   "metadata": {},
   "outputs": [],
   "source": [
    "df.shape"
   ]
  },
  {
   "cell_type": "code",
   "execution_count": null,
   "metadata": {},
   "outputs": [],
   "source": [
    "df.columns"
   ]
  },
  {
   "cell_type": "code",
   "execution_count": null,
   "metadata": {},
   "outputs": [],
   "source": [
    "df.Electorate"
   ]
  },
  {
   "cell_type": "code",
   "execution_count": null,
   "metadata": {
    "scrolled": true
   },
   "outputs": [],
   "source": [
    "df.head()\n",
    "# Also results.tail()"
   ]
  },
  {
   "cell_type": "code",
   "execution_count": null,
   "metadata": {},
   "outputs": [],
   "source": [
    "# This gives the first three rows.\n",
    "df[:3]"
   ]
  },
  {
   "cell_type": "markdown",
   "metadata": {},
   "source": [
    "> **Exercise:** What's the difference here between `iloc` and `loc`? Can you figure it out?"
   ]
  },
  {
   "cell_type": "code",
   "execution_count": null,
   "metadata": {},
   "outputs": [],
   "source": [
    "# Note what iloc[0] gives you...\n",
    "df.iloc[0]"
   ]
  },
  {
   "cell_type": "code",
   "execution_count": null,
   "metadata": {},
   "outputs": [],
   "source": [
    "# Now see how iloc[0] changes when applied to sorted data...\n",
    "df.sort_values('Electorate').iloc[0]"
   ]
  },
  {
   "cell_type": "code",
   "execution_count": null,
   "metadata": {},
   "outputs": [],
   "source": [
    "# And now what's loc[0] giving you? Can you guess what iloc and loc are doing?\n",
    "df.sort_values('Electorate').loc[0]"
   ]
  },
  {
   "cell_type": "markdown",
   "metadata": {},
   "source": [
    "---"
   ]
  },
  {
   "cell_type": "code",
   "execution_count": null,
   "metadata": {},
   "outputs": [],
   "source": [
    "# How to select multiple columns\n",
    "df[['Area', 'Leave', 'Remain']]"
   ]
  },
  {
   "cell_type": "code",
   "execution_count": null,
   "metadata": {},
   "outputs": [],
   "source": [
    "df.describe()"
   ]
  },
  {
   "cell_type": "code",
   "execution_count": null,
   "metadata": {},
   "outputs": [],
   "source": [
    "df.Region.unique()"
   ]
  },
  {
   "cell_type": "code",
   "execution_count": null,
   "metadata": {},
   "outputs": [],
   "source": [
    "# We can apply various summary statistics to any column\n",
    "df.Electorate.sum()"
   ]
  },
  {
   "cell_type": "code",
   "execution_count": null,
   "metadata": {},
   "outputs": [],
   "source": [
    "df.Electorate.mean()"
   ]
  },
  {
   "cell_type": "code",
   "execution_count": null,
   "metadata": {},
   "outputs": [],
   "source": [
    "# We can also \"group by\" any column\n",
    "df.groupby('Region')[['Leave', 'Remain']].mean()"
   ]
  },
  {
   "cell_type": "markdown",
   "metadata": {},
   "source": [
    "Finally, we can import/export very easily in pandas:\n",
    "- Import: `pd.read_csv()` `pd.read_excel()`, `pd.read_sql()`, `pd.read_json()`, `pd.read_html()`\n",
    "- Export: `df.to_csv()`, `df.to_excel()`, `df.to_sql()`, `df.to_json()`\n",
    "- Many more formats are available! https://pandas.pydata.org/pandas-docs/stable/io.html"
   ]
  },
  {
   "cell_type": "code",
   "execution_count": null,
   "metadata": {},
   "outputs": [],
   "source": [
    "# Let's export this as a Excel file\n",
    "df.to_excel('EU_ref_results-created_by_pandas.xlsx', index=False)\n",
    "# This will be found in the same directory as this .ipynb file"
   ]
  },
  {
   "cell_type": "markdown",
   "metadata": {},
   "source": [
    "### Exercises\n",
    "Complete the cells below for each question in turn."
   ]
  },
  {
   "cell_type": "markdown",
   "metadata": {},
   "source": [
    "> **Exercise 1.** Add a column called `Outcome` containing either \"Leave\" or \"Remain\" as appropriate, then return only those rows that have `Outcome = Leave`. Tips:\n",
    "> - First create a function that accepts a number and returns `\"Leave\"` if the number is less than 50, otherwise returns \"Remain\".\n",
    "> - Apply this function to the `Pct_Remain` column.\n",
    "> - Assign the result to a new column called `Outcome`.\n",
    "> - Use your new column to filter to Leave areas only (or you could use `.query()`)."
   ]
  },
  {
   "cell_type": "code",
   "execution_count": null,
   "metadata": {},
   "outputs": [],
   "source": [
    "# ...\n"
   ]
  },
  {
   "cell_type": "markdown",
   "metadata": {},
   "source": [
    "> **Exercise 2.** How many areas have an electorate greater than 500,000 people? "
   ]
  },
  {
   "cell_type": "code",
   "execution_count": null,
   "metadata": {},
   "outputs": [],
   "source": [
    "# N.B. The len() function gives the length of any Python object, for example\n",
    "print(len([1, 2, 3]))\n",
    "print(len(df))"
   ]
  },
  {
   "cell_type": "code",
   "execution_count": null,
   "metadata": {},
   "outputs": [],
   "source": [
    "# ...\n"
   ]
  },
  {
   "cell_type": "markdown",
   "metadata": {},
   "source": [
    "> **Exercise 3.** What's the maximum Pct_Rejected? Where was this?\n",
    "> - Option A: use `.max()` and then filter to where `Pct_Rejected` equals this value\n",
    "> - Option B: use `.sort_values()` with `.head(1)`"
   ]
  },
  {
   "cell_type": "code",
   "execution_count": null,
   "metadata": {},
   "outputs": [],
   "source": [
    "# ...\n"
   ]
  },
  {
   "cell_type": "markdown",
   "metadata": {},
   "source": [
    "> **Exercise 4.** Which areas have Region equals \"Scotland\" and `Pct_Leave` is greater than 49?"
   ]
  },
  {
   "cell_type": "code",
   "execution_count": null,
   "metadata": {},
   "outputs": [],
   "source": [
    "# ...\n"
   ]
  },
  {
   "cell_type": "markdown",
   "metadata": {},
   "source": [
    "> **Exercise 5.** Calculate the total Leave/Remain votes cast by Region."
   ]
  },
  {
   "cell_type": "code",
   "execution_count": null,
   "metadata": {},
   "outputs": [],
   "source": [
    "# ...\n"
   ]
  },
  {
   "cell_type": "markdown",
   "metadata": {},
   "source": [
    "> **Exercise 6.** Using your scatterplot code from earlier, plot `Pct_Turnout` (x-axis) against `Pct_Rejected` (y-axis)."
   ]
  },
  {
   "cell_type": "code",
   "execution_count": null,
   "metadata": {},
   "outputs": [],
   "source": [
    "# ...\n"
   ]
  },
  {
   "cell_type": "markdown",
   "metadata": {},
   "source": [
    "> **Exercise 7.** Add `hue='Outcome'` to colour code this by Remain/Leave."
   ]
  },
  {
   "cell_type": "code",
   "execution_count": null,
   "metadata": {},
   "outputs": [],
   "source": [
    "# ...\n"
   ]
  }
 ],
 "metadata": {
  "kernelspec": {
   "display_name": "Python 3",
   "language": "python",
   "name": "python3"
  },
  "language_info": {
   "codemirror_mode": {
    "name": "ipython",
    "version": 3
   },
   "file_extension": ".py",
   "mimetype": "text/x-python",
   "name": "python",
   "nbconvert_exporter": "python",
   "pygments_lexer": "ipython3",
   "version": "3.7.3"
  }
 },
 "nbformat": 4,
 "nbformat_minor": 4
}
