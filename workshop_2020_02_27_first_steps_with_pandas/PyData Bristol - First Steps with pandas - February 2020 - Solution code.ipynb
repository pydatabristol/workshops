{
 "cells": [
  {
   "cell_type": "markdown",
   "metadata": {},
   "source": [
    "# First Steps with pandas\n",
    "### Solution Code\n",
    "* **PyData Bristol Meetup:** https://www.meetup.com/PyData-Bristol/events/268081062/\n",
    "* **Date:** Thu 27th February 2020\n",
    "* **Instructor:** John Sandall\n",
    "* **Contact:** john@coefficient.ai / [@john_sandall](https://twitter.com/john_sandall)\n",
    "\n",
    "<div class=\"alert alert-info\">\n",
    "    This workshop is sponsored by <a href=\"https://coefficient.ai/\">Coefficient</a>. If you are interested in either Python training for your company or organisation, or in consultancy services to help accelerate delivery of your data science, analytics, data engineering or machine learning projects, please visit <a href=\"https://coefficient.ai/\">https://coefficient.ai/</a> or you can contact me at <a href=\"mailto:john@coefficient.ai/\">john@coefficient.ai</a>\n",
    "</div>\n",
    "\n",
    "---"
   ]
  },
  {
   "cell_type": "markdown",
   "metadata": {},
   "source": [
    "# Packages in Python\n",
    "Packages are libraries of code written to solve a particular set of problems. Some are \"built-in\" and are part of Python. For example, the `math` module:"
   ]
  },
  {
   "cell_type": "code",
   "execution_count": null,
   "metadata": {},
   "outputs": [],
   "source": [
    "import math"
   ]
  },
  {
   "cell_type": "code",
   "execution_count": 2,
   "metadata": {},
   "outputs": [
    {
     "data": {
      "text/plain": [
       "3.141592653589793"
      ]
     },
     "execution_count": 2,
     "metadata": {},
     "output_type": "execute_result"
    }
   ],
   "source": [
    "math.pi"
   ]
  },
  {
   "cell_type": "markdown",
   "metadata": {},
   "source": [
    "You can import pi directly too:"
   ]
  },
  {
   "cell_type": "code",
   "execution_count": 3,
   "metadata": {},
   "outputs": [],
   "source": [
    "from math import cos, pi"
   ]
  },
  {
   "cell_type": "code",
   "execution_count": 4,
   "metadata": {},
   "outputs": [
    {
     "data": {
      "text/plain": [
       "-1.0"
      ]
     },
     "execution_count": 4,
     "metadata": {},
     "output_type": "execute_result"
    }
   ],
   "source": [
    "cos(pi)"
   ]
  },
  {
   "cell_type": "markdown",
   "metadata": {},
   "source": [
    "There are many \"third party\" (i.e. made by some Python enthusiast, so make sure you trust what you're installing!) Python packages relevant to data science and analytics. Commonly used are `pandas`, `scikit-learn`, `NumPy`, `matplotlib` and more.\n",
    "\n",
    "These can be installed with \"package managers\" such as [PIP](https://pypi.org/project/pip/) or [Conda](https://docs.conda.io/en/latest/). For example, if you installed Python using Anaconda, typing this into your command line will install the seaborn package:\n",
    "\n",
    "```\n",
    "conda install seaborn\n",
    "```\n",
    "\n",
    "You can reach your command-line on Windows by searching for \"Anaconda Prompt\" or on macOS by opening up a Terminal window. If you are using Jupyter Lab then it's even easier - just click \"New\" > \"Terminal\"."
   ]
  },
  {
   "cell_type": "markdown",
   "metadata": {},
   "source": [
    "### A small warning\n",
    "Ensure you trust the packages you're installing. Ask: who wrote this code? Do I trust giving their code access to my computer? **pip** especially can be a little more dangerous, anyone can upload something to PyPI (where pip installs from), so be careful especially as the [smallest typo can be a security risk](https://snyk.io/blog/malicious-packages-found-to-be-typo-squatting-in-pypi/). **conda** is more of a walled garden and as such much better positioned for enterprise usage."
   ]
  },
  {
   "cell_type": "markdown",
   "metadata": {},
   "source": [
    "### Some easter eggs"
   ]
  },
  {
   "cell_type": "code",
   "execution_count": 5,
   "metadata": {},
   "outputs": [
    {
     "name": "stdout",
     "output_type": "stream",
     "text": [
      "The Zen of Python, by Tim Peters\n",
      "\n",
      "Beautiful is better than ugly.\n",
      "Explicit is better than implicit.\n",
      "Simple is better than complex.\n",
      "Complex is better than complicated.\n",
      "Flat is better than nested.\n",
      "Sparse is better than dense.\n",
      "Readability counts.\n",
      "Special cases aren't special enough to break the rules.\n",
      "Although practicality beats purity.\n",
      "Errors should never pass silently.\n",
      "Unless explicitly silenced.\n",
      "In the face of ambiguity, refuse the temptation to guess.\n",
      "There should be one-- and preferably only one --obvious way to do it.\n",
      "Although that way may not be obvious at first unless you're Dutch.\n",
      "Now is better than never.\n",
      "Although never is often better than *right* now.\n",
      "If the implementation is hard to explain, it's a bad idea.\n",
      "If the implementation is easy to explain, it may be a good idea.\n",
      "Namespaces are one honking great idea -- let's do more of those!\n"
     ]
    }
   ],
   "source": [
    "import this"
   ]
  },
  {
   "cell_type": "markdown",
   "metadata": {},
   "source": [
    "This is the philosophy of Python. It can help you understand which of two solutions is the most \"Pythonic\". My favourite: `Explicit is better than implicit`.\n",
    "\n",
    "This next one is an homage to the delightful xkcd webcomic:"
   ]
  },
  {
   "cell_type": "code",
   "execution_count": 6,
   "metadata": {},
   "outputs": [],
   "source": [
    "import antigravity"
   ]
  },
  {
   "cell_type": "markdown",
   "metadata": {},
   "source": [
    "# Data Analysis Packages\n",
    "Data Scientists use a wide variety of libraries in Python that make working with data significantly easier. Those libraries primarily consist of:\n",
    "\n",
    "| Package | Description |\n",
    "| -- | -- |\n",
    "| `NumPy` | Numerical calculations - does all the heavy lifting by passing out to C subroutines. This means you get _both_ the productivity of Python, _and_ the computational power of C. Best of both worlds! |\n",
    "| `SciPy` | Scientific computing, statistic tests, and much more! |\n",
    "| `pandas` | Your data manipulation swiss army knife. You'll likely see pandas used in any PyData demo! pandas is built on top of NumPy, so it's **fast**. |\n",
    "| `matplotlib` | An old but powerful data visualisation package, inspired by Matlab. |\n",
    "| `Seaborn` | A newer and easy-to-use but limited data visualisation package, built on top of matplotlib. |\n",
    "| `scikit-learn` | Your one-stop machine learning shop! Classification, regression, clustering, dimensional reduction and more. |\n",
    "| `nltk` and `spacy` | nltk = natural language processing toolkit; spacy is a newer package for natural language processing but very easy to use. |\n",
    "| `statsmodels` | Statistical tests, time series forecasting and more. The \"model formula\" interface will be familiar to R users. |\n",
    "| `requests` and `Beautiful Soup` | `requests` + `Beautiful Soup` = great combination for building web scrapers. |\n",
    "| `Jupyter` | Jupyter itself is a package too. See the latest version at https://pypi.org/project/jupyter/, and upgrade with e.g. `conda install jupyter==1.0.0` |\n",
    "\n",
    "Though there are countless others available.\n",
    "\n",
    "For today, we'll primarily focus ourselves around the library that is 99% of our work: `pandas`. But first, pandas is built on top of the speed and power of NumPy, so let's dig into that briefly."
   ]
  },
  {
   "cell_type": "markdown",
   "metadata": {},
   "source": [
    "# NumPy is _fast_"
   ]
  },
  {
   "cell_type": "markdown",
   "metadata": {},
   "source": [
    "Import \"as np\" because Python programmers are lazy, and two letters beats five.\n",
    "\n",
    "> _\"I choose a lazy person to do a hard job. Because a lazy person will find an easy way to do it.\"_\n",
    "> – Bill Gates"
   ]
  },
  {
   "cell_type": "code",
   "execution_count": 7,
   "metadata": {},
   "outputs": [],
   "source": [
    "import numpy as np"
   ]
  },
  {
   "cell_type": "code",
   "execution_count": 8,
   "metadata": {},
   "outputs": [
    {
     "data": {
      "text/plain": [
       "85"
      ]
     },
     "execution_count": 8,
     "metadata": {},
     "output_type": "execute_result"
    }
   ],
   "source": [
    "# Generate a random number between 1 and 100\n",
    "np.random.randint(1, 100)"
   ]
  },
  {
   "cell_type": "markdown",
   "metadata": {},
   "source": [
    "How does this function work? Let's use Jupyter's in-built help!"
   ]
  },
  {
   "cell_type": "code",
   "execution_count": 9,
   "metadata": {},
   "outputs": [
    {
     "data": {
      "text/plain": [
       "\u001b[0;31mDocstring:\u001b[0m\n",
       "randint(low, high=None, size=None, dtype='l')\n",
       "\n",
       "Return random integers from `low` (inclusive) to `high` (exclusive).\n",
       "\n",
       "Return random integers from the \"discrete uniform\" distribution of\n",
       "the specified dtype in the \"half-open\" interval [`low`, `high`). If\n",
       "`high` is None (the default), then results are from [0, `low`).\n",
       "\n",
       "Parameters\n",
       "----------\n",
       "low : int\n",
       "    Lowest (signed) integer to be drawn from the distribution (unless\n",
       "    ``high=None``, in which case this parameter is one above the\n",
       "    *highest* such integer).\n",
       "high : int, optional\n",
       "    If provided, one above the largest (signed) integer to be drawn\n",
       "    from the distribution (see above for behavior if ``high=None``).\n",
       "size : int or tuple of ints, optional\n",
       "    Output shape.  If the given shape is, e.g., ``(m, n, k)``, then\n",
       "    ``m * n * k`` samples are drawn.  Default is None, in which case a\n",
       "    single value is returned.\n",
       "dtype : dtype, optional\n",
       "    Desired dtype of the result. All dtypes are determined by their\n",
       "    name, i.e., 'int64', 'int', etc, so byteorder is not available\n",
       "    and a specific precision may have different C types depending\n",
       "    on the platform. The default value is 'np.int'.\n",
       "\n",
       "    .. versionadded:: 1.11.0\n",
       "\n",
       "Returns\n",
       "-------\n",
       "out : int or ndarray of ints\n",
       "    `size`-shaped array of random integers from the appropriate\n",
       "    distribution, or a single such random int if `size` not provided.\n",
       "\n",
       "See Also\n",
       "--------\n",
       "random.random_integers : similar to `randint`, only for the closed\n",
       "    interval [`low`, `high`], and 1 is the lowest value if `high` is\n",
       "    omitted. In particular, this other one is the one to use to generate\n",
       "    uniformly distributed discrete non-integers.\n",
       "\n",
       "Examples\n",
       "--------\n",
       ">>> np.random.randint(2, size=10)\n",
       "array([1, 0, 0, 0, 1, 1, 0, 0, 1, 0])\n",
       ">>> np.random.randint(1, size=10)\n",
       "array([0, 0, 0, 0, 0, 0, 0, 0, 0, 0])\n",
       "\n",
       "Generate a 2 x 4 array of ints between 0 and 4, inclusive:\n",
       "\n",
       ">>> np.random.randint(5, size=(2, 4))\n",
       "array([[4, 0, 2, 1],\n",
       "       [3, 2, 2, 0]])\n",
       "\u001b[0;31mType:\u001b[0m      builtin_function_or_method\n"
      ]
     },
     "metadata": {},
     "output_type": "display_data"
    }
   ],
   "source": [
    "?np.random.randint"
   ]
  },
  {
   "cell_type": "markdown",
   "metadata": {},
   "source": [
    "---\n",
    "\n",
    "Let's create a randomly generated NumPy \"array\"."
   ]
  },
  {
   "cell_type": "code",
   "execution_count": 10,
   "metadata": {},
   "outputs": [
    {
     "data": {
      "text/plain": [
       "array([98, 55, 76, 91, 51, 93, 21, 26, 98, 44, 69, 76,  1, 47, 85, 62, 68,\n",
       "       49, 43, 65, 76, 83, 84, 41, 11, 11, 24, 43, 67, 98, 29,  9, 65, 21,\n",
       "       52, 79, 79, 43, 77, 29, 27, 93, 93,  2, 58, 55,  1, 72, 95, 25,  4,\n",
       "       19, 60, 56, 86, 82, 76, 17, 83, 30, 71, 55, 88, 70, 65, 50, 18, 83,\n",
       "       10, 73, 96, 51, 28,  4, 47, 21, 53, 50, 31, 98, 84, 27, 32, 69, 56,\n",
       "       31, 50,  6,  1, 83, 23, 79, 31, 33, 26, 12, 63, 26, 14, 80])"
      ]
     },
     "execution_count": 10,
     "metadata": {},
     "output_type": "execute_result"
    }
   ],
   "source": [
    "# Generate 100 random numbers between 1 and 100\n",
    "array = np.random.randint(1, 100, size=100)\n",
    "array"
   ]
  },
  {
   "cell_type": "markdown",
   "metadata": {},
   "source": [
    "Arrays behave a bit like Python lists. For example, you can slice them:"
   ]
  },
  {
   "cell_type": "code",
   "execution_count": 11,
   "metadata": {},
   "outputs": [
    {
     "data": {
      "text/plain": [
       "array([98, 55, 76, 91, 51])"
      ]
     },
     "execution_count": 11,
     "metadata": {},
     "output_type": "execute_result"
    }
   ],
   "source": [
    "array[:5]"
   ]
  },
  {
   "cell_type": "markdown",
   "metadata": {},
   "source": [
    "But they're more powerful, they can do things Python lists don't know how to do:"
   ]
  },
  {
   "cell_type": "code",
   "execution_count": 12,
   "metadata": {},
   "outputs": [
    {
     "name": "stdout",
     "output_type": "stream",
     "text": [
      "51.61\n",
      "5161\n",
      "1\n"
     ]
    }
   ],
   "source": [
    "print(array.mean())  # average\n",
    "print(array.sum())  # sum\n",
    "print(array.min())  # min"
   ]
  },
  {
   "cell_type": "markdown",
   "metadata": {},
   "source": [
    "---"
   ]
  },
  {
   "cell_type": "markdown",
   "metadata": {},
   "source": [
    "> **Exercise:** Use argmax and the array's index selector (e.g. array[3] gives element at position 3) to return the array's max value."
   ]
  },
  {
   "cell_type": "code",
   "execution_count": 13,
   "metadata": {},
   "outputs": [
    {
     "name": "stdout",
     "output_type": "stream",
     "text": [
      "Max value = 98\n",
      "Index of max value = 0\n"
     ]
    }
   ],
   "source": [
    "# This is the maximum value in array\n",
    "print(\"Max value =\", array.max())\n",
    "\n",
    "# This is the index location of the maximum value in the array\n",
    "print(\"Index of max value =\", array.argmax())"
   ]
  },
  {
   "cell_type": "code",
   "execution_count": 14,
   "metadata": {},
   "outputs": [
    {
     "data": {
      "text/plain": [
       "98"
      ]
     },
     "execution_count": 14,
     "metadata": {},
     "output_type": "execute_result"
    }
   ],
   "source": [
    "# Exercise: Use argmax and the array's index selector (e.g. array[3] gives element at position 3)\n",
    "#           to return the array's max value.\n",
    "array[array.argmax()]"
   ]
  },
  {
   "cell_type": "markdown",
   "metadata": {},
   "source": [
    "---"
   ]
  },
  {
   "cell_type": "markdown",
   "metadata": {},
   "source": [
    "We can \"chain\" these in-built functions like `randint` and `mean` all in one line:"
   ]
  },
  {
   "cell_type": "code",
   "execution_count": 15,
   "metadata": {},
   "outputs": [
    {
     "data": {
      "text/plain": [
       "49.8183"
      ]
     },
     "execution_count": 15,
     "metadata": {},
     "output_type": "execute_result"
    }
   ],
   "source": [
    "# Average of 10000 random numbers between 1 and 100\n",
    "np.random.randint(1, 100, size=10000).mean()"
   ]
  },
  {
   "cell_type": "markdown",
   "metadata": {},
   "source": [
    "Finally, note how blazing fast NumPy is:"
   ]
  },
  {
   "cell_type": "code",
   "execution_count": 16,
   "metadata": {},
   "outputs": [
    {
     "data": {
      "text/plain": [
       "49.98236"
      ]
     },
     "execution_count": 16,
     "metadata": {},
     "output_type": "execute_result"
    }
   ],
   "source": [
    "# Average of 1000000 random numbers between 1 and 100\n",
    "np.random.randint(1, 100, size=1000000).mean()"
   ]
  },
  {
   "cell_type": "markdown",
   "metadata": {},
   "source": [
    "---"
   ]
  },
  {
   "cell_type": "markdown",
   "metadata": {},
   "source": [
    "# Manipulating Data In Python Using Pandas"
   ]
  },
  {
   "cell_type": "markdown",
   "metadata": {},
   "source": [
    "[pandas](http://pandas.pydata.org/pandas-docs/stable/) is a library built on top of numpy, which allows us to use Excel-like tables in Python. These special tables are called DataFrames, the primary object in `pandas`."
   ]
  },
  {
   "cell_type": "markdown",
   "metadata": {},
   "source": [
    "Similar to before, `pd` is two characters whilst `pandas` is six. It's less to type. You could use anything (e.g. `import pandas as cute_bears`) but `pd` is a common convention."
   ]
  },
  {
   "cell_type": "code",
   "execution_count": 17,
   "metadata": {},
   "outputs": [],
   "source": [
    "import pandas as pd"
   ]
  },
  {
   "cell_type": "markdown",
   "metadata": {},
   "source": [
    "## European Union 2016 membership referendum results\n",
    "> The United Kingdom's European Union membership referendum took place on 23 June 2016 to gauge support for the country either remaining a member of or leaving the European Union. The referendum resulted in a simple majority of 51.9% being in favour of leaving the EU.\n",
    "\n",
    "For this guided practice we will manually input data relating to the 2016 EU membership referendum.  We will apply the Python knowledge we have acquired and see how some popular modules such as pandas, numpy and matplotlib are used.\n",
    "\n",
    "Data source: https://en.wikipedia.org/wiki/United_Kingdom_European_Union_membership_referendum,_2016#Regional_count_results"
   ]
  },
  {
   "cell_type": "markdown",
   "metadata": {},
   "source": [
    "### 1. Create the dataset"
   ]
  },
  {
   "cell_type": "markdown",
   "metadata": {},
   "source": [
    "Let us first define some lists that can be used to create a pandas dataframe:"
   ]
  },
  {
   "cell_type": "code",
   "execution_count": 18,
   "metadata": {},
   "outputs": [],
   "source": [
    "# Source: https://en.wikipedia.org/wiki/United_Kingdom_European_Union_membership_referendum,_2016#Regional_count_results\n",
    "regions  = [\n",
    "    'East Midlands',\n",
    "    'East of England',\n",
    "    'Greater London',\n",
    "    'North East England',\n",
    "    'North West England',\n",
    "    'Northern Ireland',\n",
    "    'Scotland',\n",
    "    'South East England',\n",
    "    'South West England',  # includes Gibraltar\n",
    "    'Wales',\n",
    "    'West Midlands',\n",
    "    'Yorkshire and the Humber'\n",
    "]"
   ]
  },
  {
   "cell_type": "markdown",
   "metadata": {},
   "source": [
    "Let us now list the electorate and turnout for the regions in question:"
   ]
  },
  {
   "cell_type": "code",
   "execution_count": 19,
   "metadata": {},
   "outputs": [],
   "source": [
    "electorate = [\n",
    "    3384299,\n",
    "    4398796,\n",
    "    5424768,\n",
    "    1934341,\n",
    "    5241568,\n",
    "    1260955,\n",
    "    3987112,\n",
    "    6465404,\n",
    "    4138134,\n",
    "    2270272,\n",
    "    4116572,\n",
    "    3877780\n",
    "]\n",
    "\n",
    "turnout = [\n",
    "    .742,\n",
    "    .757,\n",
    "    .697,\n",
    "    .693,\n",
    "    .700,\n",
    "    .627,\n",
    "    .672,\n",
    "    .768,\n",
    "    .767,\n",
    "    .717,\n",
    "    .720,\n",
    "    .707\n",
    "]"
   ]
  },
  {
   "cell_type": "markdown",
   "metadata": {},
   "source": [
    "We are now ready to put all the information above in a single dataframe:"
   ]
  },
  {
   "cell_type": "code",
   "execution_count": 20,
   "metadata": {},
   "outputs": [],
   "source": [
    "raw_data_dictionary = {\n",
    "    'region': regions,\n",
    "    'electorate': electorate,\n",
    "    'turnout': turnout\n",
    "}\n",
    "\n",
    "results = pd.DataFrame(raw_data_dictionary)"
   ]
  },
  {
   "cell_type": "code",
   "execution_count": 21,
   "metadata": {},
   "outputs": [
    {
     "data": {
      "text/html": [
       "<div>\n",
       "<style scoped>\n",
       "    .dataframe tbody tr th:only-of-type {\n",
       "        vertical-align: middle;\n",
       "    }\n",
       "\n",
       "    .dataframe tbody tr th {\n",
       "        vertical-align: top;\n",
       "    }\n",
       "\n",
       "    .dataframe thead th {\n",
       "        text-align: right;\n",
       "    }\n",
       "</style>\n",
       "<table border=\"1\" class=\"dataframe\">\n",
       "  <thead>\n",
       "    <tr style=\"text-align: right;\">\n",
       "      <th></th>\n",
       "      <th>region</th>\n",
       "      <th>electorate</th>\n",
       "      <th>turnout</th>\n",
       "    </tr>\n",
       "  </thead>\n",
       "  <tbody>\n",
       "    <tr>\n",
       "      <th>0</th>\n",
       "      <td>East Midlands</td>\n",
       "      <td>3384299</td>\n",
       "      <td>0.742</td>\n",
       "    </tr>\n",
       "    <tr>\n",
       "      <th>1</th>\n",
       "      <td>East of England</td>\n",
       "      <td>4398796</td>\n",
       "      <td>0.757</td>\n",
       "    </tr>\n",
       "    <tr>\n",
       "      <th>2</th>\n",
       "      <td>Greater London</td>\n",
       "      <td>5424768</td>\n",
       "      <td>0.697</td>\n",
       "    </tr>\n",
       "    <tr>\n",
       "      <th>3</th>\n",
       "      <td>North East England</td>\n",
       "      <td>1934341</td>\n",
       "      <td>0.693</td>\n",
       "    </tr>\n",
       "    <tr>\n",
       "      <th>4</th>\n",
       "      <td>North West England</td>\n",
       "      <td>5241568</td>\n",
       "      <td>0.700</td>\n",
       "    </tr>\n",
       "    <tr>\n",
       "      <th>5</th>\n",
       "      <td>Northern Ireland</td>\n",
       "      <td>1260955</td>\n",
       "      <td>0.627</td>\n",
       "    </tr>\n",
       "    <tr>\n",
       "      <th>6</th>\n",
       "      <td>Scotland</td>\n",
       "      <td>3987112</td>\n",
       "      <td>0.672</td>\n",
       "    </tr>\n",
       "    <tr>\n",
       "      <th>7</th>\n",
       "      <td>South East England</td>\n",
       "      <td>6465404</td>\n",
       "      <td>0.768</td>\n",
       "    </tr>\n",
       "    <tr>\n",
       "      <th>8</th>\n",
       "      <td>South West England</td>\n",
       "      <td>4138134</td>\n",
       "      <td>0.767</td>\n",
       "    </tr>\n",
       "    <tr>\n",
       "      <th>9</th>\n",
       "      <td>Wales</td>\n",
       "      <td>2270272</td>\n",
       "      <td>0.717</td>\n",
       "    </tr>\n",
       "    <tr>\n",
       "      <th>10</th>\n",
       "      <td>West Midlands</td>\n",
       "      <td>4116572</td>\n",
       "      <td>0.720</td>\n",
       "    </tr>\n",
       "    <tr>\n",
       "      <th>11</th>\n",
       "      <td>Yorkshire and the Humber</td>\n",
       "      <td>3877780</td>\n",
       "      <td>0.707</td>\n",
       "    </tr>\n",
       "  </tbody>\n",
       "</table>\n",
       "</div>"
      ],
      "text/plain": [
       "                      region  electorate  turnout\n",
       "0              East Midlands     3384299    0.742\n",
       "1            East of England     4398796    0.757\n",
       "2             Greater London     5424768    0.697\n",
       "3         North East England     1934341    0.693\n",
       "4         North West England     5241568    0.700\n",
       "5           Northern Ireland     1260955    0.627\n",
       "6                   Scotland     3987112    0.672\n",
       "7         South East England     6465404    0.768\n",
       "8         South West England     4138134    0.767\n",
       "9                      Wales     2270272    0.717\n",
       "10             West Midlands     4116572    0.720\n",
       "11  Yorkshire and the Humber     3877780    0.707"
      ]
     },
     "execution_count": 21,
     "metadata": {},
     "output_type": "execute_result"
    }
   ],
   "source": [
    "results"
   ]
  },
  {
   "cell_type": "markdown",
   "metadata": {},
   "source": [
    "### 2. Selecting columns"
   ]
  },
  {
   "cell_type": "markdown",
   "metadata": {},
   "source": [
    "How do we select a single column?"
   ]
  },
  {
   "cell_type": "code",
   "execution_count": 22,
   "metadata": {},
   "outputs": [
    {
     "data": {
      "text/html": [
       "<div>\n",
       "<style scoped>\n",
       "    .dataframe tbody tr th:only-of-type {\n",
       "        vertical-align: middle;\n",
       "    }\n",
       "\n",
       "    .dataframe tbody tr th {\n",
       "        vertical-align: top;\n",
       "    }\n",
       "\n",
       "    .dataframe thead th {\n",
       "        text-align: right;\n",
       "    }\n",
       "</style>\n",
       "<table border=\"1\" class=\"dataframe\">\n",
       "  <thead>\n",
       "    <tr style=\"text-align: right;\">\n",
       "      <th></th>\n",
       "      <th>region</th>\n",
       "    </tr>\n",
       "  </thead>\n",
       "  <tbody>\n",
       "    <tr>\n",
       "      <th>0</th>\n",
       "      <td>East Midlands</td>\n",
       "    </tr>\n",
       "    <tr>\n",
       "      <th>1</th>\n",
       "      <td>East of England</td>\n",
       "    </tr>\n",
       "    <tr>\n",
       "      <th>2</th>\n",
       "      <td>Greater London</td>\n",
       "    </tr>\n",
       "    <tr>\n",
       "      <th>3</th>\n",
       "      <td>North East England</td>\n",
       "    </tr>\n",
       "    <tr>\n",
       "      <th>4</th>\n",
       "      <td>North West England</td>\n",
       "    </tr>\n",
       "    <tr>\n",
       "      <th>5</th>\n",
       "      <td>Northern Ireland</td>\n",
       "    </tr>\n",
       "    <tr>\n",
       "      <th>6</th>\n",
       "      <td>Scotland</td>\n",
       "    </tr>\n",
       "    <tr>\n",
       "      <th>7</th>\n",
       "      <td>South East England</td>\n",
       "    </tr>\n",
       "    <tr>\n",
       "      <th>8</th>\n",
       "      <td>South West England</td>\n",
       "    </tr>\n",
       "    <tr>\n",
       "      <th>9</th>\n",
       "      <td>Wales</td>\n",
       "    </tr>\n",
       "    <tr>\n",
       "      <th>10</th>\n",
       "      <td>West Midlands</td>\n",
       "    </tr>\n",
       "    <tr>\n",
       "      <th>11</th>\n",
       "      <td>Yorkshire and the Humber</td>\n",
       "    </tr>\n",
       "  </tbody>\n",
       "</table>\n",
       "</div>"
      ],
      "text/plain": [
       "                      region\n",
       "0              East Midlands\n",
       "1            East of England\n",
       "2             Greater London\n",
       "3         North East England\n",
       "4         North West England\n",
       "5           Northern Ireland\n",
       "6                   Scotland\n",
       "7         South East England\n",
       "8         South West England\n",
       "9                      Wales\n",
       "10             West Midlands\n",
       "11  Yorkshire and the Humber"
      ]
     },
     "execution_count": 22,
     "metadata": {},
     "output_type": "execute_result"
    }
   ],
   "source": [
    "results[['region']]"
   ]
  },
  {
   "cell_type": "markdown",
   "metadata": {},
   "source": [
    "> **Exercise:** Try selecting just the turnout column."
   ]
  },
  {
   "cell_type": "code",
   "execution_count": 23,
   "metadata": {},
   "outputs": [
    {
     "data": {
      "text/html": [
       "<div>\n",
       "<style scoped>\n",
       "    .dataframe tbody tr th:only-of-type {\n",
       "        vertical-align: middle;\n",
       "    }\n",
       "\n",
       "    .dataframe tbody tr th {\n",
       "        vertical-align: top;\n",
       "    }\n",
       "\n",
       "    .dataframe thead th {\n",
       "        text-align: right;\n",
       "    }\n",
       "</style>\n",
       "<table border=\"1\" class=\"dataframe\">\n",
       "  <thead>\n",
       "    <tr style=\"text-align: right;\">\n",
       "      <th></th>\n",
       "      <th>turnout</th>\n",
       "    </tr>\n",
       "  </thead>\n",
       "  <tbody>\n",
       "    <tr>\n",
       "      <th>0</th>\n",
       "      <td>0.742</td>\n",
       "    </tr>\n",
       "    <tr>\n",
       "      <th>1</th>\n",
       "      <td>0.757</td>\n",
       "    </tr>\n",
       "    <tr>\n",
       "      <th>2</th>\n",
       "      <td>0.697</td>\n",
       "    </tr>\n",
       "    <tr>\n",
       "      <th>3</th>\n",
       "      <td>0.693</td>\n",
       "    </tr>\n",
       "    <tr>\n",
       "      <th>4</th>\n",
       "      <td>0.700</td>\n",
       "    </tr>\n",
       "    <tr>\n",
       "      <th>5</th>\n",
       "      <td>0.627</td>\n",
       "    </tr>\n",
       "    <tr>\n",
       "      <th>6</th>\n",
       "      <td>0.672</td>\n",
       "    </tr>\n",
       "    <tr>\n",
       "      <th>7</th>\n",
       "      <td>0.768</td>\n",
       "    </tr>\n",
       "    <tr>\n",
       "      <th>8</th>\n",
       "      <td>0.767</td>\n",
       "    </tr>\n",
       "    <tr>\n",
       "      <th>9</th>\n",
       "      <td>0.717</td>\n",
       "    </tr>\n",
       "    <tr>\n",
       "      <th>10</th>\n",
       "      <td>0.720</td>\n",
       "    </tr>\n",
       "    <tr>\n",
       "      <th>11</th>\n",
       "      <td>0.707</td>\n",
       "    </tr>\n",
       "  </tbody>\n",
       "</table>\n",
       "</div>"
      ],
      "text/plain": [
       "    turnout\n",
       "0     0.742\n",
       "1     0.757\n",
       "2     0.697\n",
       "3     0.693\n",
       "4     0.700\n",
       "5     0.627\n",
       "6     0.672\n",
       "7     0.768\n",
       "8     0.767\n",
       "9     0.717\n",
       "10    0.720\n",
       "11    0.707"
      ]
     },
     "execution_count": 23,
     "metadata": {},
     "output_type": "execute_result"
    }
   ],
   "source": [
    "# Enter your answer here\n",
    "results[['turnout']]"
   ]
  },
  {
   "cell_type": "markdown",
   "metadata": {},
   "source": [
    "We can also select multiple columns:"
   ]
  },
  {
   "cell_type": "code",
   "execution_count": 24,
   "metadata": {},
   "outputs": [
    {
     "data": {
      "text/html": [
       "<div>\n",
       "<style scoped>\n",
       "    .dataframe tbody tr th:only-of-type {\n",
       "        vertical-align: middle;\n",
       "    }\n",
       "\n",
       "    .dataframe tbody tr th {\n",
       "        vertical-align: top;\n",
       "    }\n",
       "\n",
       "    .dataframe thead th {\n",
       "        text-align: right;\n",
       "    }\n",
       "</style>\n",
       "<table border=\"1\" class=\"dataframe\">\n",
       "  <thead>\n",
       "    <tr style=\"text-align: right;\">\n",
       "      <th></th>\n",
       "      <th>region</th>\n",
       "      <th>turnout</th>\n",
       "    </tr>\n",
       "  </thead>\n",
       "  <tbody>\n",
       "    <tr>\n",
       "      <th>0</th>\n",
       "      <td>East Midlands</td>\n",
       "      <td>0.742</td>\n",
       "    </tr>\n",
       "    <tr>\n",
       "      <th>1</th>\n",
       "      <td>East of England</td>\n",
       "      <td>0.757</td>\n",
       "    </tr>\n",
       "    <tr>\n",
       "      <th>2</th>\n",
       "      <td>Greater London</td>\n",
       "      <td>0.697</td>\n",
       "    </tr>\n",
       "    <tr>\n",
       "      <th>3</th>\n",
       "      <td>North East England</td>\n",
       "      <td>0.693</td>\n",
       "    </tr>\n",
       "    <tr>\n",
       "      <th>4</th>\n",
       "      <td>North West England</td>\n",
       "      <td>0.700</td>\n",
       "    </tr>\n",
       "    <tr>\n",
       "      <th>5</th>\n",
       "      <td>Northern Ireland</td>\n",
       "      <td>0.627</td>\n",
       "    </tr>\n",
       "    <tr>\n",
       "      <th>6</th>\n",
       "      <td>Scotland</td>\n",
       "      <td>0.672</td>\n",
       "    </tr>\n",
       "    <tr>\n",
       "      <th>7</th>\n",
       "      <td>South East England</td>\n",
       "      <td>0.768</td>\n",
       "    </tr>\n",
       "    <tr>\n",
       "      <th>8</th>\n",
       "      <td>South West England</td>\n",
       "      <td>0.767</td>\n",
       "    </tr>\n",
       "    <tr>\n",
       "      <th>9</th>\n",
       "      <td>Wales</td>\n",
       "      <td>0.717</td>\n",
       "    </tr>\n",
       "    <tr>\n",
       "      <th>10</th>\n",
       "      <td>West Midlands</td>\n",
       "      <td>0.720</td>\n",
       "    </tr>\n",
       "    <tr>\n",
       "      <th>11</th>\n",
       "      <td>Yorkshire and the Humber</td>\n",
       "      <td>0.707</td>\n",
       "    </tr>\n",
       "  </tbody>\n",
       "</table>\n",
       "</div>"
      ],
      "text/plain": [
       "                      region  turnout\n",
       "0              East Midlands    0.742\n",
       "1            East of England    0.757\n",
       "2             Greater London    0.697\n",
       "3         North East England    0.693\n",
       "4         North West England    0.700\n",
       "5           Northern Ireland    0.627\n",
       "6                   Scotland    0.672\n",
       "7         South East England    0.768\n",
       "8         South West England    0.767\n",
       "9                      Wales    0.717\n",
       "10             West Midlands    0.720\n",
       "11  Yorkshire and the Humber    0.707"
      ]
     },
     "execution_count": 24,
     "metadata": {},
     "output_type": "execute_result"
    }
   ],
   "source": [
    "results[['region', 'turnout']]"
   ]
  },
  {
   "cell_type": "markdown",
   "metadata": {},
   "source": [
    "**Don't forget** to use double brackets here! Technically, we're passing a list of column names into the DataFrame's `[]` selectors:"
   ]
  },
  {
   "cell_type": "code",
   "execution_count": 25,
   "metadata": {},
   "outputs": [
    {
     "data": {
      "text/html": [
       "<div>\n",
       "<style scoped>\n",
       "    .dataframe tbody tr th:only-of-type {\n",
       "        vertical-align: middle;\n",
       "    }\n",
       "\n",
       "    .dataframe tbody tr th {\n",
       "        vertical-align: top;\n",
       "    }\n",
       "\n",
       "    .dataframe thead th {\n",
       "        text-align: right;\n",
       "    }\n",
       "</style>\n",
       "<table border=\"1\" class=\"dataframe\">\n",
       "  <thead>\n",
       "    <tr style=\"text-align: right;\">\n",
       "      <th></th>\n",
       "      <th>region</th>\n",
       "      <th>turnout</th>\n",
       "    </tr>\n",
       "  </thead>\n",
       "  <tbody>\n",
       "    <tr>\n",
       "      <th>0</th>\n",
       "      <td>East Midlands</td>\n",
       "      <td>0.742</td>\n",
       "    </tr>\n",
       "    <tr>\n",
       "      <th>1</th>\n",
       "      <td>East of England</td>\n",
       "      <td>0.757</td>\n",
       "    </tr>\n",
       "    <tr>\n",
       "      <th>2</th>\n",
       "      <td>Greater London</td>\n",
       "      <td>0.697</td>\n",
       "    </tr>\n",
       "    <tr>\n",
       "      <th>3</th>\n",
       "      <td>North East England</td>\n",
       "      <td>0.693</td>\n",
       "    </tr>\n",
       "    <tr>\n",
       "      <th>4</th>\n",
       "      <td>North West England</td>\n",
       "      <td>0.700</td>\n",
       "    </tr>\n",
       "    <tr>\n",
       "      <th>5</th>\n",
       "      <td>Northern Ireland</td>\n",
       "      <td>0.627</td>\n",
       "    </tr>\n",
       "    <tr>\n",
       "      <th>6</th>\n",
       "      <td>Scotland</td>\n",
       "      <td>0.672</td>\n",
       "    </tr>\n",
       "    <tr>\n",
       "      <th>7</th>\n",
       "      <td>South East England</td>\n",
       "      <td>0.768</td>\n",
       "    </tr>\n",
       "    <tr>\n",
       "      <th>8</th>\n",
       "      <td>South West England</td>\n",
       "      <td>0.767</td>\n",
       "    </tr>\n",
       "    <tr>\n",
       "      <th>9</th>\n",
       "      <td>Wales</td>\n",
       "      <td>0.717</td>\n",
       "    </tr>\n",
       "    <tr>\n",
       "      <th>10</th>\n",
       "      <td>West Midlands</td>\n",
       "      <td>0.720</td>\n",
       "    </tr>\n",
       "    <tr>\n",
       "      <th>11</th>\n",
       "      <td>Yorkshire and the Humber</td>\n",
       "      <td>0.707</td>\n",
       "    </tr>\n",
       "  </tbody>\n",
       "</table>\n",
       "</div>"
      ],
      "text/plain": [
       "                      region  turnout\n",
       "0              East Midlands    0.742\n",
       "1            East of England    0.757\n",
       "2             Greater London    0.697\n",
       "3         North East England    0.693\n",
       "4         North West England    0.700\n",
       "5           Northern Ireland    0.627\n",
       "6                   Scotland    0.672\n",
       "7         South East England    0.768\n",
       "8         South West England    0.767\n",
       "9                      Wales    0.717\n",
       "10             West Midlands    0.720\n",
       "11  Yorkshire and the Humber    0.707"
      ]
     },
     "execution_count": 25,
     "metadata": {},
     "output_type": "execute_result"
    }
   ],
   "source": [
    "cols_to_select = ['region', 'turnout']\n",
    "results[cols_to_select]"
   ]
  },
  {
   "cell_type": "markdown",
   "metadata": {},
   "source": [
    "Let us take a look at the first 5 entries:"
   ]
  },
  {
   "cell_type": "code",
   "execution_count": 26,
   "metadata": {},
   "outputs": [
    {
     "data": {
      "text/html": [
       "<div>\n",
       "<style scoped>\n",
       "    .dataframe tbody tr th:only-of-type {\n",
       "        vertical-align: middle;\n",
       "    }\n",
       "\n",
       "    .dataframe tbody tr th {\n",
       "        vertical-align: top;\n",
       "    }\n",
       "\n",
       "    .dataframe thead th {\n",
       "        text-align: right;\n",
       "    }\n",
       "</style>\n",
       "<table border=\"1\" class=\"dataframe\">\n",
       "  <thead>\n",
       "    <tr style=\"text-align: right;\">\n",
       "      <th></th>\n",
       "      <th>region</th>\n",
       "      <th>electorate</th>\n",
       "      <th>turnout</th>\n",
       "    </tr>\n",
       "  </thead>\n",
       "  <tbody>\n",
       "    <tr>\n",
       "      <th>0</th>\n",
       "      <td>East Midlands</td>\n",
       "      <td>3384299</td>\n",
       "      <td>0.742</td>\n",
       "    </tr>\n",
       "    <tr>\n",
       "      <th>1</th>\n",
       "      <td>East of England</td>\n",
       "      <td>4398796</td>\n",
       "      <td>0.757</td>\n",
       "    </tr>\n",
       "    <tr>\n",
       "      <th>2</th>\n",
       "      <td>Greater London</td>\n",
       "      <td>5424768</td>\n",
       "      <td>0.697</td>\n",
       "    </tr>\n",
       "    <tr>\n",
       "      <th>3</th>\n",
       "      <td>North East England</td>\n",
       "      <td>1934341</td>\n",
       "      <td>0.693</td>\n",
       "    </tr>\n",
       "    <tr>\n",
       "      <th>4</th>\n",
       "      <td>North West England</td>\n",
       "      <td>5241568</td>\n",
       "      <td>0.700</td>\n",
       "    </tr>\n",
       "  </tbody>\n",
       "</table>\n",
       "</div>"
      ],
      "text/plain": [
       "               region  electorate  turnout\n",
       "0       East Midlands     3384299    0.742\n",
       "1     East of England     4398796    0.757\n",
       "2      Greater London     5424768    0.697\n",
       "3  North East England     1934341    0.693\n",
       "4  North West England     5241568    0.700"
      ]
     },
     "execution_count": 26,
     "metadata": {},
     "output_type": "execute_result"
    }
   ],
   "source": [
    "results.head()"
   ]
  },
  {
   "cell_type": "markdown",
   "metadata": {},
   "source": [
    "> **Exercise:** Copy the above and replace `.head()` with `.tail(10)` to get the last 10 entries in the dataframe."
   ]
  },
  {
   "cell_type": "code",
   "execution_count": 27,
   "metadata": {},
   "outputs": [
    {
     "data": {
      "text/html": [
       "<div>\n",
       "<style scoped>\n",
       "    .dataframe tbody tr th:only-of-type {\n",
       "        vertical-align: middle;\n",
       "    }\n",
       "\n",
       "    .dataframe tbody tr th {\n",
       "        vertical-align: top;\n",
       "    }\n",
       "\n",
       "    .dataframe thead th {\n",
       "        text-align: right;\n",
       "    }\n",
       "</style>\n",
       "<table border=\"1\" class=\"dataframe\">\n",
       "  <thead>\n",
       "    <tr style=\"text-align: right;\">\n",
       "      <th></th>\n",
       "      <th>region</th>\n",
       "      <th>electorate</th>\n",
       "      <th>turnout</th>\n",
       "    </tr>\n",
       "  </thead>\n",
       "  <tbody>\n",
       "    <tr>\n",
       "      <th>2</th>\n",
       "      <td>Greater London</td>\n",
       "      <td>5424768</td>\n",
       "      <td>0.697</td>\n",
       "    </tr>\n",
       "    <tr>\n",
       "      <th>3</th>\n",
       "      <td>North East England</td>\n",
       "      <td>1934341</td>\n",
       "      <td>0.693</td>\n",
       "    </tr>\n",
       "    <tr>\n",
       "      <th>4</th>\n",
       "      <td>North West England</td>\n",
       "      <td>5241568</td>\n",
       "      <td>0.700</td>\n",
       "    </tr>\n",
       "    <tr>\n",
       "      <th>5</th>\n",
       "      <td>Northern Ireland</td>\n",
       "      <td>1260955</td>\n",
       "      <td>0.627</td>\n",
       "    </tr>\n",
       "    <tr>\n",
       "      <th>6</th>\n",
       "      <td>Scotland</td>\n",
       "      <td>3987112</td>\n",
       "      <td>0.672</td>\n",
       "    </tr>\n",
       "    <tr>\n",
       "      <th>7</th>\n",
       "      <td>South East England</td>\n",
       "      <td>6465404</td>\n",
       "      <td>0.768</td>\n",
       "    </tr>\n",
       "    <tr>\n",
       "      <th>8</th>\n",
       "      <td>South West England</td>\n",
       "      <td>4138134</td>\n",
       "      <td>0.767</td>\n",
       "    </tr>\n",
       "    <tr>\n",
       "      <th>9</th>\n",
       "      <td>Wales</td>\n",
       "      <td>2270272</td>\n",
       "      <td>0.717</td>\n",
       "    </tr>\n",
       "    <tr>\n",
       "      <th>10</th>\n",
       "      <td>West Midlands</td>\n",
       "      <td>4116572</td>\n",
       "      <td>0.720</td>\n",
       "    </tr>\n",
       "    <tr>\n",
       "      <th>11</th>\n",
       "      <td>Yorkshire and the Humber</td>\n",
       "      <td>3877780</td>\n",
       "      <td>0.707</td>\n",
       "    </tr>\n",
       "  </tbody>\n",
       "</table>\n",
       "</div>"
      ],
      "text/plain": [
       "                      region  electorate  turnout\n",
       "2             Greater London     5424768    0.697\n",
       "3         North East England     1934341    0.693\n",
       "4         North West England     5241568    0.700\n",
       "5           Northern Ireland     1260955    0.627\n",
       "6                   Scotland     3987112    0.672\n",
       "7         South East England     6465404    0.768\n",
       "8         South West England     4138134    0.767\n",
       "9                      Wales     2270272    0.717\n",
       "10             West Midlands     4116572    0.720\n",
       "11  Yorkshire and the Humber     3877780    0.707"
      ]
     },
     "execution_count": 27,
     "metadata": {},
     "output_type": "execute_result"
    }
   ],
   "source": [
    "# Enter your answer here\n",
    "results.tail(10)"
   ]
  },
  {
   "cell_type": "markdown",
   "metadata": {},
   "source": [
    "### 3. Using `map()` and `apply()`"
   ]
  },
  {
   "cell_type": "code",
   "execution_count": 28,
   "metadata": {},
   "outputs": [
    {
     "data": {
      "text/html": [
       "<div>\n",
       "<style scoped>\n",
       "    .dataframe tbody tr th:only-of-type {\n",
       "        vertical-align: middle;\n",
       "    }\n",
       "\n",
       "    .dataframe tbody tr th {\n",
       "        vertical-align: top;\n",
       "    }\n",
       "\n",
       "    .dataframe thead th {\n",
       "        text-align: right;\n",
       "    }\n",
       "</style>\n",
       "<table border=\"1\" class=\"dataframe\">\n",
       "  <thead>\n",
       "    <tr style=\"text-align: right;\">\n",
       "      <th></th>\n",
       "      <th>region</th>\n",
       "    </tr>\n",
       "  </thead>\n",
       "  <tbody>\n",
       "    <tr>\n",
       "      <th>0</th>\n",
       "      <td>East Midlands</td>\n",
       "    </tr>\n",
       "    <tr>\n",
       "      <th>1</th>\n",
       "      <td>East of England</td>\n",
       "    </tr>\n",
       "    <tr>\n",
       "      <th>2</th>\n",
       "      <td>Greater London</td>\n",
       "    </tr>\n",
       "    <tr>\n",
       "      <th>3</th>\n",
       "      <td>North East England</td>\n",
       "    </tr>\n",
       "    <tr>\n",
       "      <th>4</th>\n",
       "      <td>North West England</td>\n",
       "    </tr>\n",
       "    <tr>\n",
       "      <th>5</th>\n",
       "      <td>Northern Ireland</td>\n",
       "    </tr>\n",
       "    <tr>\n",
       "      <th>6</th>\n",
       "      <td>Scotland</td>\n",
       "    </tr>\n",
       "    <tr>\n",
       "      <th>7</th>\n",
       "      <td>South East England</td>\n",
       "    </tr>\n",
       "    <tr>\n",
       "      <th>8</th>\n",
       "      <td>South West England</td>\n",
       "    </tr>\n",
       "    <tr>\n",
       "      <th>9</th>\n",
       "      <td>Wales</td>\n",
       "    </tr>\n",
       "    <tr>\n",
       "      <th>10</th>\n",
       "      <td>West Midlands</td>\n",
       "    </tr>\n",
       "    <tr>\n",
       "      <th>11</th>\n",
       "      <td>Yorkshire and the Humber</td>\n",
       "    </tr>\n",
       "  </tbody>\n",
       "</table>\n",
       "</div>"
      ],
      "text/plain": [
       "                      region\n",
       "0              East Midlands\n",
       "1            East of England\n",
       "2             Greater London\n",
       "3         North East England\n",
       "4         North West England\n",
       "5           Northern Ireland\n",
       "6                   Scotland\n",
       "7         South East England\n",
       "8         South West England\n",
       "9                      Wales\n",
       "10             West Midlands\n",
       "11  Yorkshire and the Humber"
      ]
     },
     "execution_count": 28,
     "metadata": {},
     "output_type": "execute_result"
    }
   ],
   "source": [
    "# What are the regions?\n",
    "results[['region']]"
   ]
  },
  {
   "cell_type": "code",
   "execution_count": 29,
   "metadata": {},
   "outputs": [
    {
     "data": {
      "text/plain": [
       "0                East Midlands\n",
       "1              East of England\n",
       "2               Greater London\n",
       "3           North East England\n",
       "4           North West England\n",
       "5             Northern Ireland\n",
       "6                     Scotland\n",
       "7           South East England\n",
       "8           South West England\n",
       "9                        Wales\n",
       "10               West Midlands\n",
       "11    Yorkshire and the Humber\n",
       "Name: region, dtype: object"
      ]
     },
     "execution_count": 29,
     "metadata": {},
     "output_type": "execute_result"
    }
   ],
   "source": [
    "# We can get just the values like this (technical note, this is a pandas \"Series\")\n",
    "results.region"
   ]
  },
  {
   "cell_type": "code",
   "execution_count": 30,
   "metadata": {},
   "outputs": [
    {
     "data": {
      "text/plain": [
       "['East Midlands',\n",
       " 'East of England',\n",
       " 'Greater London',\n",
       " 'North East England',\n",
       " 'North West England',\n",
       " 'Northern Ireland',\n",
       " 'Scotland',\n",
       " 'South East England',\n",
       " 'South West England',\n",
       " 'Wales',\n",
       " 'West Midlands',\n",
       " 'Yorkshire and the Humber']"
      ]
     },
     "execution_count": 30,
     "metadata": {},
     "output_type": "execute_result"
    }
   ],
   "source": [
    "# We can turn the above into a normal Python list too\n",
    "results.region.tolist()"
   ]
  },
  {
   "cell_type": "code",
   "execution_count": 31,
   "metadata": {},
   "outputs": [],
   "source": [
    "# Let's create a dictionary lookup from region to country\n",
    "countries = {\n",
    "    'East Midlands': 'England',\n",
    "    'East of England': 'England',\n",
    "    'Greater London': 'England',\n",
    "    'North East England': 'England',\n",
    "    'North West England': 'England',\n",
    "    'Northern Ireland': 'Northern Ireland',\n",
    "    'Scotland': 'Scotland',\n",
    "    'South East England': 'England',\n",
    "    'South West England': 'England',\n",
    "    'Wales': 'Wales',\n",
    "    'West Midlands': 'England',\n",
    "    'Yorkshire and the Humber': 'England'\n",
    "}"
   ]
  },
  {
   "cell_type": "code",
   "execution_count": 32,
   "metadata": {},
   "outputs": [
    {
     "data": {
      "text/plain": [
       "'England'"
      ]
     },
     "execution_count": 32,
     "metadata": {},
     "output_type": "execute_result"
    }
   ],
   "source": [
    "# We can now \"look up\" the country (i.e. dictionary london) associated with the\n",
    "# dictionary key for Greater London.\n",
    "countries['Greater London']"
   ]
  },
  {
   "cell_type": "markdown",
   "metadata": {},
   "source": [
    "How do we do a \"vlookup\" in pandas? We use the pandas `map()` method."
   ]
  },
  {
   "cell_type": "code",
   "execution_count": 33,
   "metadata": {},
   "outputs": [
    {
     "data": {
      "text/plain": [
       "0              England\n",
       "1              England\n",
       "2              England\n",
       "3              England\n",
       "4              England\n",
       "5     Northern Ireland\n",
       "6             Scotland\n",
       "7              England\n",
       "8              England\n",
       "9                Wales\n",
       "10             England\n",
       "11             England\n",
       "Name: region, dtype: object"
      ]
     },
     "execution_count": 33,
     "metadata": {},
     "output_type": "execute_result"
    }
   ],
   "source": [
    "# We can magically \"map\" regions to countries (n.b. this is temporary & does not change the results dataframe!)\n",
    "results.region.map(countries)"
   ]
  },
  {
   "cell_type": "markdown",
   "metadata": {},
   "source": [
    "We'd like to create a new column in our original table called \"country\". First, let's see how to create a new column in pandas."
   ]
  },
  {
   "cell_type": "code",
   "execution_count": 34,
   "metadata": {},
   "outputs": [
    {
     "data": {
      "text/html": [
       "<div>\n",
       "<style scoped>\n",
       "    .dataframe tbody tr th:only-of-type {\n",
       "        vertical-align: middle;\n",
       "    }\n",
       "\n",
       "    .dataframe tbody tr th {\n",
       "        vertical-align: top;\n",
       "    }\n",
       "\n",
       "    .dataframe thead th {\n",
       "        text-align: right;\n",
       "    }\n",
       "</style>\n",
       "<table border=\"1\" class=\"dataframe\">\n",
       "  <thead>\n",
       "    <tr style=\"text-align: right;\">\n",
       "      <th></th>\n",
       "      <th>region</th>\n",
       "      <th>electorate</th>\n",
       "      <th>turnout</th>\n",
       "      <th>country</th>\n",
       "    </tr>\n",
       "  </thead>\n",
       "  <tbody>\n",
       "    <tr>\n",
       "      <th>0</th>\n",
       "      <td>East Midlands</td>\n",
       "      <td>3384299</td>\n",
       "      <td>0.742</td>\n",
       "      <td>123456789</td>\n",
       "    </tr>\n",
       "    <tr>\n",
       "      <th>1</th>\n",
       "      <td>East of England</td>\n",
       "      <td>4398796</td>\n",
       "      <td>0.757</td>\n",
       "      <td>123456789</td>\n",
       "    </tr>\n",
       "    <tr>\n",
       "      <th>2</th>\n",
       "      <td>Greater London</td>\n",
       "      <td>5424768</td>\n",
       "      <td>0.697</td>\n",
       "      <td>123456789</td>\n",
       "    </tr>\n",
       "    <tr>\n",
       "      <th>3</th>\n",
       "      <td>North East England</td>\n",
       "      <td>1934341</td>\n",
       "      <td>0.693</td>\n",
       "      <td>123456789</td>\n",
       "    </tr>\n",
       "    <tr>\n",
       "      <th>4</th>\n",
       "      <td>North West England</td>\n",
       "      <td>5241568</td>\n",
       "      <td>0.700</td>\n",
       "      <td>123456789</td>\n",
       "    </tr>\n",
       "    <tr>\n",
       "      <th>5</th>\n",
       "      <td>Northern Ireland</td>\n",
       "      <td>1260955</td>\n",
       "      <td>0.627</td>\n",
       "      <td>123456789</td>\n",
       "    </tr>\n",
       "    <tr>\n",
       "      <th>6</th>\n",
       "      <td>Scotland</td>\n",
       "      <td>3987112</td>\n",
       "      <td>0.672</td>\n",
       "      <td>123456789</td>\n",
       "    </tr>\n",
       "    <tr>\n",
       "      <th>7</th>\n",
       "      <td>South East England</td>\n",
       "      <td>6465404</td>\n",
       "      <td>0.768</td>\n",
       "      <td>123456789</td>\n",
       "    </tr>\n",
       "    <tr>\n",
       "      <th>8</th>\n",
       "      <td>South West England</td>\n",
       "      <td>4138134</td>\n",
       "      <td>0.767</td>\n",
       "      <td>123456789</td>\n",
       "    </tr>\n",
       "    <tr>\n",
       "      <th>9</th>\n",
       "      <td>Wales</td>\n",
       "      <td>2270272</td>\n",
       "      <td>0.717</td>\n",
       "      <td>123456789</td>\n",
       "    </tr>\n",
       "    <tr>\n",
       "      <th>10</th>\n",
       "      <td>West Midlands</td>\n",
       "      <td>4116572</td>\n",
       "      <td>0.720</td>\n",
       "      <td>123456789</td>\n",
       "    </tr>\n",
       "    <tr>\n",
       "      <th>11</th>\n",
       "      <td>Yorkshire and the Humber</td>\n",
       "      <td>3877780</td>\n",
       "      <td>0.707</td>\n",
       "      <td>123456789</td>\n",
       "    </tr>\n",
       "  </tbody>\n",
       "</table>\n",
       "</div>"
      ],
      "text/plain": [
       "                      region  electorate  turnout    country\n",
       "0              East Midlands     3384299    0.742  123456789\n",
       "1            East of England     4398796    0.757  123456789\n",
       "2             Greater London     5424768    0.697  123456789\n",
       "3         North East England     1934341    0.693  123456789\n",
       "4         North West England     5241568    0.700  123456789\n",
       "5           Northern Ireland     1260955    0.627  123456789\n",
       "6                   Scotland     3987112    0.672  123456789\n",
       "7         South East England     6465404    0.768  123456789\n",
       "8         South West England     4138134    0.767  123456789\n",
       "9                      Wales     2270272    0.717  123456789\n",
       "10             West Midlands     4116572    0.720  123456789\n",
       "11  Yorkshire and the Humber     3877780    0.707  123456789"
      ]
     },
     "execution_count": 34,
     "metadata": {},
     "output_type": "execute_result"
    }
   ],
   "source": [
    "# This will add a new column with all values set to 123456789\n",
    "# (It's a bit like adding a new entry into a dictionary.)\n",
    "results['country'] = 123456789\n",
    "results  # remember, Jupyter Notebook always prints out the last line of each cell!"
   ]
  },
  {
   "cell_type": "code",
   "execution_count": 35,
   "metadata": {},
   "outputs": [
    {
     "data": {
      "text/html": [
       "<div>\n",
       "<style scoped>\n",
       "    .dataframe tbody tr th:only-of-type {\n",
       "        vertical-align: middle;\n",
       "    }\n",
       "\n",
       "    .dataframe tbody tr th {\n",
       "        vertical-align: top;\n",
       "    }\n",
       "\n",
       "    .dataframe thead th {\n",
       "        text-align: right;\n",
       "    }\n",
       "</style>\n",
       "<table border=\"1\" class=\"dataframe\">\n",
       "  <thead>\n",
       "    <tr style=\"text-align: right;\">\n",
       "      <th></th>\n",
       "      <th>region</th>\n",
       "      <th>electorate</th>\n",
       "      <th>turnout</th>\n",
       "      <th>country</th>\n",
       "    </tr>\n",
       "  </thead>\n",
       "  <tbody>\n",
       "    <tr>\n",
       "      <th>0</th>\n",
       "      <td>East Midlands</td>\n",
       "      <td>3384299</td>\n",
       "      <td>0.742</td>\n",
       "      <td>England</td>\n",
       "    </tr>\n",
       "    <tr>\n",
       "      <th>1</th>\n",
       "      <td>East of England</td>\n",
       "      <td>4398796</td>\n",
       "      <td>0.757</td>\n",
       "      <td>England</td>\n",
       "    </tr>\n",
       "    <tr>\n",
       "      <th>2</th>\n",
       "      <td>Greater London</td>\n",
       "      <td>5424768</td>\n",
       "      <td>0.697</td>\n",
       "      <td>England</td>\n",
       "    </tr>\n",
       "    <tr>\n",
       "      <th>3</th>\n",
       "      <td>North East England</td>\n",
       "      <td>1934341</td>\n",
       "      <td>0.693</td>\n",
       "      <td>England</td>\n",
       "    </tr>\n",
       "    <tr>\n",
       "      <th>4</th>\n",
       "      <td>North West England</td>\n",
       "      <td>5241568</td>\n",
       "      <td>0.700</td>\n",
       "      <td>England</td>\n",
       "    </tr>\n",
       "    <tr>\n",
       "      <th>5</th>\n",
       "      <td>Northern Ireland</td>\n",
       "      <td>1260955</td>\n",
       "      <td>0.627</td>\n",
       "      <td>Northern Ireland</td>\n",
       "    </tr>\n",
       "    <tr>\n",
       "      <th>6</th>\n",
       "      <td>Scotland</td>\n",
       "      <td>3987112</td>\n",
       "      <td>0.672</td>\n",
       "      <td>Scotland</td>\n",
       "    </tr>\n",
       "    <tr>\n",
       "      <th>7</th>\n",
       "      <td>South East England</td>\n",
       "      <td>6465404</td>\n",
       "      <td>0.768</td>\n",
       "      <td>England</td>\n",
       "    </tr>\n",
       "    <tr>\n",
       "      <th>8</th>\n",
       "      <td>South West England</td>\n",
       "      <td>4138134</td>\n",
       "      <td>0.767</td>\n",
       "      <td>England</td>\n",
       "    </tr>\n",
       "    <tr>\n",
       "      <th>9</th>\n",
       "      <td>Wales</td>\n",
       "      <td>2270272</td>\n",
       "      <td>0.717</td>\n",
       "      <td>Wales</td>\n",
       "    </tr>\n",
       "    <tr>\n",
       "      <th>10</th>\n",
       "      <td>West Midlands</td>\n",
       "      <td>4116572</td>\n",
       "      <td>0.720</td>\n",
       "      <td>England</td>\n",
       "    </tr>\n",
       "    <tr>\n",
       "      <th>11</th>\n",
       "      <td>Yorkshire and the Humber</td>\n",
       "      <td>3877780</td>\n",
       "      <td>0.707</td>\n",
       "      <td>England</td>\n",
       "    </tr>\n",
       "  </tbody>\n",
       "</table>\n",
       "</div>"
      ],
      "text/plain": [
       "                      region  electorate  turnout           country\n",
       "0              East Midlands     3384299    0.742           England\n",
       "1            East of England     4398796    0.757           England\n",
       "2             Greater London     5424768    0.697           England\n",
       "3         North East England     1934341    0.693           England\n",
       "4         North West England     5241568    0.700           England\n",
       "5           Northern Ireland     1260955    0.627  Northern Ireland\n",
       "6                   Scotland     3987112    0.672          Scotland\n",
       "7         South East England     6465404    0.768           England\n",
       "8         South West England     4138134    0.767           England\n",
       "9                      Wales     2270272    0.717             Wales\n",
       "10             West Midlands     4116572    0.720           England\n",
       "11  Yorkshire and the Humber     3877780    0.707           England"
      ]
     },
     "execution_count": 35,
     "metadata": {},
     "output_type": "execute_result"
    }
   ],
   "source": [
    "# Let's create/overwrite the new state_names column from out state name mapper\n",
    "results['country'] = results.region.map(countries)  # just like inserting a new value into a dict\n",
    "results"
   ]
  },
  {
   "cell_type": "markdown",
   "metadata": {},
   "source": [
    "Similarly, let's create a column to state the turnout as a formatted percentage and another one for the absolute turnout.\n",
    "\n",
    "Here's an easy way of doing this."
   ]
  },
  {
   "cell_type": "code",
   "execution_count": 36,
   "metadata": {},
   "outputs": [
    {
     "data": {
      "text/plain": [
       "0     74.2\n",
       "1     75.7\n",
       "2     69.7\n",
       "3     69.3\n",
       "4     70.0\n",
       "5     62.7\n",
       "6     67.2\n",
       "7     76.8\n",
       "8     76.7\n",
       "9     71.7\n",
       "10    72.0\n",
       "11    70.7\n",
       "Name: turnout, dtype: float64"
      ]
     },
     "execution_count": 36,
     "metadata": {},
     "output_type": "execute_result"
    }
   ],
   "source": [
    "# The easy way...\n",
    "results.turnout * 100"
   ]
  },
  {
   "cell_type": "markdown",
   "metadata": {},
   "source": [
    "For demonstration purposes, we'll do this the long way. Or rather, you will!"
   ]
  },
  {
   "cell_type": "markdown",
   "metadata": {},
   "source": [
    "> **Exercise:** Define a function called `percentage()` that takes a single argument `x` and returns `x` multiplied by 100."
   ]
  },
  {
   "cell_type": "code",
   "execution_count": 37,
   "metadata": {},
   "outputs": [],
   "source": [
    "# Your answer here...\n",
    "def percentage(x):\n",
    "    return x * 100"
   ]
  },
  {
   "cell_type": "markdown",
   "metadata": {},
   "source": [
    "> **Exercise:** You can now \"apply\" this function to one of the columns of our dataframe to create a new column. In the same way that we previously did `results.region.map()`, try `results.turnout.apply()`. Inside the brackets, enter just the name of the function you want to \"apply\" to the turnout column, i.e. `apply(percentage)`."
   ]
  },
  {
   "cell_type": "code",
   "execution_count": 38,
   "metadata": {},
   "outputs": [
    {
     "data": {
      "text/plain": [
       "0     74.2\n",
       "1     75.7\n",
       "2     69.7\n",
       "3     69.3\n",
       "4     70.0\n",
       "5     62.7\n",
       "6     67.2\n",
       "7     76.8\n",
       "8     76.7\n",
       "9     71.7\n",
       "10    72.0\n",
       "11    70.7\n",
       "Name: turnout, dtype: float64"
      ]
     },
     "execution_count": 38,
     "metadata": {},
     "output_type": "execute_result"
    }
   ],
   "source": [
    "# Remember, map() takes a dict as an argument, apply() takes a function\n",
    "results.turnout.apply(percentage)"
   ]
  },
  {
   "cell_type": "markdown",
   "metadata": {},
   "source": [
    "> **Exercise:** Copy the last line of code into the cell below, and create a new column in our `results` dataframe called `turnout_percent` from your code in the exercise above."
   ]
  },
  {
   "cell_type": "code",
   "execution_count": 39,
   "metadata": {},
   "outputs": [],
   "source": [
    "# ...\n",
    "results['turnout_percent'] = results.turnout.apply(percentage)"
   ]
  },
  {
   "cell_type": "code",
   "execution_count": 40,
   "metadata": {},
   "outputs": [
    {
     "data": {
      "text/html": [
       "<div>\n",
       "<style scoped>\n",
       "    .dataframe tbody tr th:only-of-type {\n",
       "        vertical-align: middle;\n",
       "    }\n",
       "\n",
       "    .dataframe tbody tr th {\n",
       "        vertical-align: top;\n",
       "    }\n",
       "\n",
       "    .dataframe thead th {\n",
       "        text-align: right;\n",
       "    }\n",
       "</style>\n",
       "<table border=\"1\" class=\"dataframe\">\n",
       "  <thead>\n",
       "    <tr style=\"text-align: right;\">\n",
       "      <th></th>\n",
       "      <th>region</th>\n",
       "      <th>electorate</th>\n",
       "      <th>turnout</th>\n",
       "      <th>country</th>\n",
       "      <th>turnout_percent</th>\n",
       "    </tr>\n",
       "  </thead>\n",
       "  <tbody>\n",
       "    <tr>\n",
       "      <th>0</th>\n",
       "      <td>East Midlands</td>\n",
       "      <td>3384299</td>\n",
       "      <td>0.742</td>\n",
       "      <td>England</td>\n",
       "      <td>74.2</td>\n",
       "    </tr>\n",
       "    <tr>\n",
       "      <th>1</th>\n",
       "      <td>East of England</td>\n",
       "      <td>4398796</td>\n",
       "      <td>0.757</td>\n",
       "      <td>England</td>\n",
       "      <td>75.7</td>\n",
       "    </tr>\n",
       "    <tr>\n",
       "      <th>2</th>\n",
       "      <td>Greater London</td>\n",
       "      <td>5424768</td>\n",
       "      <td>0.697</td>\n",
       "      <td>England</td>\n",
       "      <td>69.7</td>\n",
       "    </tr>\n",
       "    <tr>\n",
       "      <th>3</th>\n",
       "      <td>North East England</td>\n",
       "      <td>1934341</td>\n",
       "      <td>0.693</td>\n",
       "      <td>England</td>\n",
       "      <td>69.3</td>\n",
       "    </tr>\n",
       "    <tr>\n",
       "      <th>4</th>\n",
       "      <td>North West England</td>\n",
       "      <td>5241568</td>\n",
       "      <td>0.700</td>\n",
       "      <td>England</td>\n",
       "      <td>70.0</td>\n",
       "    </tr>\n",
       "    <tr>\n",
       "      <th>5</th>\n",
       "      <td>Northern Ireland</td>\n",
       "      <td>1260955</td>\n",
       "      <td>0.627</td>\n",
       "      <td>Northern Ireland</td>\n",
       "      <td>62.7</td>\n",
       "    </tr>\n",
       "    <tr>\n",
       "      <th>6</th>\n",
       "      <td>Scotland</td>\n",
       "      <td>3987112</td>\n",
       "      <td>0.672</td>\n",
       "      <td>Scotland</td>\n",
       "      <td>67.2</td>\n",
       "    </tr>\n",
       "    <tr>\n",
       "      <th>7</th>\n",
       "      <td>South East England</td>\n",
       "      <td>6465404</td>\n",
       "      <td>0.768</td>\n",
       "      <td>England</td>\n",
       "      <td>76.8</td>\n",
       "    </tr>\n",
       "    <tr>\n",
       "      <th>8</th>\n",
       "      <td>South West England</td>\n",
       "      <td>4138134</td>\n",
       "      <td>0.767</td>\n",
       "      <td>England</td>\n",
       "      <td>76.7</td>\n",
       "    </tr>\n",
       "    <tr>\n",
       "      <th>9</th>\n",
       "      <td>Wales</td>\n",
       "      <td>2270272</td>\n",
       "      <td>0.717</td>\n",
       "      <td>Wales</td>\n",
       "      <td>71.7</td>\n",
       "    </tr>\n",
       "    <tr>\n",
       "      <th>10</th>\n",
       "      <td>West Midlands</td>\n",
       "      <td>4116572</td>\n",
       "      <td>0.720</td>\n",
       "      <td>England</td>\n",
       "      <td>72.0</td>\n",
       "    </tr>\n",
       "    <tr>\n",
       "      <th>11</th>\n",
       "      <td>Yorkshire and the Humber</td>\n",
       "      <td>3877780</td>\n",
       "      <td>0.707</td>\n",
       "      <td>England</td>\n",
       "      <td>70.7</td>\n",
       "    </tr>\n",
       "  </tbody>\n",
       "</table>\n",
       "</div>"
      ],
      "text/plain": [
       "                      region  electorate  turnout           country  \\\n",
       "0              East Midlands     3384299    0.742           England   \n",
       "1            East of England     4398796    0.757           England   \n",
       "2             Greater London     5424768    0.697           England   \n",
       "3         North East England     1934341    0.693           England   \n",
       "4         North West England     5241568    0.700           England   \n",
       "5           Northern Ireland     1260955    0.627  Northern Ireland   \n",
       "6                   Scotland     3987112    0.672          Scotland   \n",
       "7         South East England     6465404    0.768           England   \n",
       "8         South West England     4138134    0.767           England   \n",
       "9                      Wales     2270272    0.717             Wales   \n",
       "10             West Midlands     4116572    0.720           England   \n",
       "11  Yorkshire and the Humber     3877780    0.707           England   \n",
       "\n",
       "    turnout_percent  \n",
       "0              74.2  \n",
       "1              75.7  \n",
       "2              69.7  \n",
       "3              69.3  \n",
       "4              70.0  \n",
       "5              62.7  \n",
       "6              67.2  \n",
       "7              76.8  \n",
       "8              76.7  \n",
       "9              71.7  \n",
       "10             72.0  \n",
       "11             70.7  "
      ]
     },
     "execution_count": 40,
     "metadata": {},
     "output_type": "execute_result"
    }
   ],
   "source": [
    "# You should now see the new `turnout_percent` column with 74.2 for East Midlands, 75.7 for East of England, etc.\n",
    "results"
   ]
  },
  {
   "cell_type": "markdown",
   "metadata": {},
   "source": [
    "### 4. Selecting rows, filtering & sorting\n",
    "How many columns and rows do we have in the dataframe?"
   ]
  },
  {
   "cell_type": "code",
   "execution_count": 41,
   "metadata": {},
   "outputs": [
    {
     "data": {
      "text/plain": [
       "(12, 5)"
      ]
     },
     "execution_count": 41,
     "metadata": {},
     "output_type": "execute_result"
    }
   ],
   "source": [
    "results.shape"
   ]
  },
  {
   "cell_type": "markdown",
   "metadata": {},
   "source": [
    "We have 12 rows and 5 columns.\n",
    "\n",
    "Let us select some of the data points. For instance the first 4 entries for region and turnout_percent."
   ]
  },
  {
   "cell_type": "code",
   "execution_count": 42,
   "metadata": {},
   "outputs": [
    {
     "data": {
      "text/html": [
       "<div>\n",
       "<style scoped>\n",
       "    .dataframe tbody tr th:only-of-type {\n",
       "        vertical-align: middle;\n",
       "    }\n",
       "\n",
       "    .dataframe tbody tr th {\n",
       "        vertical-align: top;\n",
       "    }\n",
       "\n",
       "    .dataframe thead th {\n",
       "        text-align: right;\n",
       "    }\n",
       "</style>\n",
       "<table border=\"1\" class=\"dataframe\">\n",
       "  <thead>\n",
       "    <tr style=\"text-align: right;\">\n",
       "      <th></th>\n",
       "      <th>region</th>\n",
       "      <th>turnout_percent</th>\n",
       "    </tr>\n",
       "  </thead>\n",
       "  <tbody>\n",
       "    <tr>\n",
       "      <th>0</th>\n",
       "      <td>East Midlands</td>\n",
       "      <td>74.2</td>\n",
       "    </tr>\n",
       "    <tr>\n",
       "      <th>1</th>\n",
       "      <td>East of England</td>\n",
       "      <td>75.7</td>\n",
       "    </tr>\n",
       "    <tr>\n",
       "      <th>2</th>\n",
       "      <td>Greater London</td>\n",
       "      <td>69.7</td>\n",
       "    </tr>\n",
       "    <tr>\n",
       "      <th>3</th>\n",
       "      <td>North East England</td>\n",
       "      <td>69.3</td>\n",
       "    </tr>\n",
       "  </tbody>\n",
       "</table>\n",
       "</div>"
      ],
      "text/plain": [
       "               region  turnout_percent\n",
       "0       East Midlands             74.2\n",
       "1     East of England             75.7\n",
       "2      Greater London             69.7\n",
       "3  North East England             69.3"
      ]
     },
     "execution_count": 42,
     "metadata": {},
     "output_type": "execute_result"
    }
   ],
   "source": [
    "results[['region', 'turnout_percent']][0:4]"
   ]
  },
  {
   "cell_type": "markdown",
   "metadata": {},
   "source": [
    "We can select some data based on conditional logic. For instance let us show only those records where the electorate is greater than 6 million people."
   ]
  },
  {
   "cell_type": "code",
   "execution_count": 43,
   "metadata": {},
   "outputs": [
    {
     "data": {
      "text/plain": [
       "0     False\n",
       "1     False\n",
       "2     False\n",
       "3     False\n",
       "4     False\n",
       "5     False\n",
       "6     False\n",
       "7      True\n",
       "8     False\n",
       "9     False\n",
       "10    False\n",
       "11    False\n",
       "Name: electorate, dtype: bool"
      ]
     },
     "execution_count": 43,
     "metadata": {},
     "output_type": "execute_result"
    }
   ],
   "source": [
    "electorate_filter = (results.electorate >= 6000000)  # brackets added for clarity, you don't need them here\n",
    "electorate_filter"
   ]
  },
  {
   "cell_type": "code",
   "execution_count": 44,
   "metadata": {},
   "outputs": [
    {
     "data": {
      "text/html": [
       "<div>\n",
       "<style scoped>\n",
       "    .dataframe tbody tr th:only-of-type {\n",
       "        vertical-align: middle;\n",
       "    }\n",
       "\n",
       "    .dataframe tbody tr th {\n",
       "        vertical-align: top;\n",
       "    }\n",
       "\n",
       "    .dataframe thead th {\n",
       "        text-align: right;\n",
       "    }\n",
       "</style>\n",
       "<table border=\"1\" class=\"dataframe\">\n",
       "  <thead>\n",
       "    <tr style=\"text-align: right;\">\n",
       "      <th></th>\n",
       "      <th>region</th>\n",
       "      <th>electorate</th>\n",
       "      <th>turnout</th>\n",
       "      <th>country</th>\n",
       "      <th>turnout_percent</th>\n",
       "    </tr>\n",
       "  </thead>\n",
       "  <tbody>\n",
       "    <tr>\n",
       "      <th>7</th>\n",
       "      <td>South East England</td>\n",
       "      <td>6465404</td>\n",
       "      <td>0.768</td>\n",
       "      <td>England</td>\n",
       "      <td>76.8</td>\n",
       "    </tr>\n",
       "  </tbody>\n",
       "</table>\n",
       "</div>"
      ],
      "text/plain": [
       "               region  electorate  turnout  country  turnout_percent\n",
       "7  South East England     6465404    0.768  England             76.8"
      ]
     },
     "execution_count": 44,
     "metadata": {},
     "output_type": "execute_result"
    }
   ],
   "source": [
    "results[electorate_filter]"
   ]
  },
  {
   "cell_type": "code",
   "execution_count": 45,
   "metadata": {},
   "outputs": [
    {
     "data": {
      "text/html": [
       "<div>\n",
       "<style scoped>\n",
       "    .dataframe tbody tr th:only-of-type {\n",
       "        vertical-align: middle;\n",
       "    }\n",
       "\n",
       "    .dataframe tbody tr th {\n",
       "        vertical-align: top;\n",
       "    }\n",
       "\n",
       "    .dataframe thead th {\n",
       "        text-align: right;\n",
       "    }\n",
       "</style>\n",
       "<table border=\"1\" class=\"dataframe\">\n",
       "  <thead>\n",
       "    <tr style=\"text-align: right;\">\n",
       "      <th></th>\n",
       "      <th>region</th>\n",
       "      <th>electorate</th>\n",
       "      <th>turnout</th>\n",
       "      <th>country</th>\n",
       "      <th>turnout_percent</th>\n",
       "    </tr>\n",
       "  </thead>\n",
       "  <tbody>\n",
       "    <tr>\n",
       "      <th>7</th>\n",
       "      <td>South East England</td>\n",
       "      <td>6465404</td>\n",
       "      <td>0.768</td>\n",
       "      <td>England</td>\n",
       "      <td>76.8</td>\n",
       "    </tr>\n",
       "  </tbody>\n",
       "</table>\n",
       "</div>"
      ],
      "text/plain": [
       "               region  electorate  turnout  country  turnout_percent\n",
       "7  South East England     6465404    0.768  England             76.8"
      ]
     },
     "execution_count": 45,
     "metadata": {},
     "output_type": "execute_result"
    }
   ],
   "source": [
    "# We can do this all in one go!\n",
    "results[results.electorate >= 6000000]"
   ]
  },
  {
   "cell_type": "code",
   "execution_count": 46,
   "metadata": {},
   "outputs": [
    {
     "data": {
      "text/html": [
       "<div>\n",
       "<style scoped>\n",
       "    .dataframe tbody tr th:only-of-type {\n",
       "        vertical-align: middle;\n",
       "    }\n",
       "\n",
       "    .dataframe tbody tr th {\n",
       "        vertical-align: top;\n",
       "    }\n",
       "\n",
       "    .dataframe thead th {\n",
       "        text-align: right;\n",
       "    }\n",
       "</style>\n",
       "<table border=\"1\" class=\"dataframe\">\n",
       "  <thead>\n",
       "    <tr style=\"text-align: right;\">\n",
       "      <th></th>\n",
       "      <th>region</th>\n",
       "      <th>electorate</th>\n",
       "      <th>turnout</th>\n",
       "      <th>country</th>\n",
       "      <th>turnout_percent</th>\n",
       "    </tr>\n",
       "  </thead>\n",
       "  <tbody>\n",
       "    <tr>\n",
       "      <th>7</th>\n",
       "      <td>South East England</td>\n",
       "      <td>6465404</td>\n",
       "      <td>0.768</td>\n",
       "      <td>England</td>\n",
       "      <td>76.8</td>\n",
       "    </tr>\n",
       "  </tbody>\n",
       "</table>\n",
       "</div>"
      ],
      "text/plain": [
       "               region  electorate  turnout  country  turnout_percent\n",
       "7  South East England     6465404    0.768  England             76.8"
      ]
     },
     "execution_count": 46,
     "metadata": {},
     "output_type": "execute_result"
    }
   ],
   "source": [
    "# pandas provides another way of doing this kind of query\n",
    "results.query('electorate >= 6000000')"
   ]
  },
  {
   "cell_type": "markdown",
   "metadata": {},
   "source": [
    "As we can see, only South East England meets the condition.\n",
    "\n",
    "Let's now try sorting the dataframe in descending order by the turnout."
   ]
  },
  {
   "cell_type": "code",
   "execution_count": 47,
   "metadata": {},
   "outputs": [
    {
     "data": {
      "text/html": [
       "<div>\n",
       "<style scoped>\n",
       "    .dataframe tbody tr th:only-of-type {\n",
       "        vertical-align: middle;\n",
       "    }\n",
       "\n",
       "    .dataframe tbody tr th {\n",
       "        vertical-align: top;\n",
       "    }\n",
       "\n",
       "    .dataframe thead th {\n",
       "        text-align: right;\n",
       "    }\n",
       "</style>\n",
       "<table border=\"1\" class=\"dataframe\">\n",
       "  <thead>\n",
       "    <tr style=\"text-align: right;\">\n",
       "      <th></th>\n",
       "      <th>region</th>\n",
       "      <th>electorate</th>\n",
       "      <th>turnout</th>\n",
       "      <th>country</th>\n",
       "      <th>turnout_percent</th>\n",
       "    </tr>\n",
       "  </thead>\n",
       "  <tbody>\n",
       "    <tr>\n",
       "      <th>7</th>\n",
       "      <td>South East England</td>\n",
       "      <td>6465404</td>\n",
       "      <td>0.768</td>\n",
       "      <td>England</td>\n",
       "      <td>76.8</td>\n",
       "    </tr>\n",
       "    <tr>\n",
       "      <th>8</th>\n",
       "      <td>South West England</td>\n",
       "      <td>4138134</td>\n",
       "      <td>0.767</td>\n",
       "      <td>England</td>\n",
       "      <td>76.7</td>\n",
       "    </tr>\n",
       "    <tr>\n",
       "      <th>1</th>\n",
       "      <td>East of England</td>\n",
       "      <td>4398796</td>\n",
       "      <td>0.757</td>\n",
       "      <td>England</td>\n",
       "      <td>75.7</td>\n",
       "    </tr>\n",
       "    <tr>\n",
       "      <th>0</th>\n",
       "      <td>East Midlands</td>\n",
       "      <td>3384299</td>\n",
       "      <td>0.742</td>\n",
       "      <td>England</td>\n",
       "      <td>74.2</td>\n",
       "    </tr>\n",
       "    <tr>\n",
       "      <th>10</th>\n",
       "      <td>West Midlands</td>\n",
       "      <td>4116572</td>\n",
       "      <td>0.720</td>\n",
       "      <td>England</td>\n",
       "      <td>72.0</td>\n",
       "    </tr>\n",
       "    <tr>\n",
       "      <th>9</th>\n",
       "      <td>Wales</td>\n",
       "      <td>2270272</td>\n",
       "      <td>0.717</td>\n",
       "      <td>Wales</td>\n",
       "      <td>71.7</td>\n",
       "    </tr>\n",
       "    <tr>\n",
       "      <th>11</th>\n",
       "      <td>Yorkshire and the Humber</td>\n",
       "      <td>3877780</td>\n",
       "      <td>0.707</td>\n",
       "      <td>England</td>\n",
       "      <td>70.7</td>\n",
       "    </tr>\n",
       "    <tr>\n",
       "      <th>4</th>\n",
       "      <td>North West England</td>\n",
       "      <td>5241568</td>\n",
       "      <td>0.700</td>\n",
       "      <td>England</td>\n",
       "      <td>70.0</td>\n",
       "    </tr>\n",
       "    <tr>\n",
       "      <th>2</th>\n",
       "      <td>Greater London</td>\n",
       "      <td>5424768</td>\n",
       "      <td>0.697</td>\n",
       "      <td>England</td>\n",
       "      <td>69.7</td>\n",
       "    </tr>\n",
       "    <tr>\n",
       "      <th>3</th>\n",
       "      <td>North East England</td>\n",
       "      <td>1934341</td>\n",
       "      <td>0.693</td>\n",
       "      <td>England</td>\n",
       "      <td>69.3</td>\n",
       "    </tr>\n",
       "    <tr>\n",
       "      <th>6</th>\n",
       "      <td>Scotland</td>\n",
       "      <td>3987112</td>\n",
       "      <td>0.672</td>\n",
       "      <td>Scotland</td>\n",
       "      <td>67.2</td>\n",
       "    </tr>\n",
       "    <tr>\n",
       "      <th>5</th>\n",
       "      <td>Northern Ireland</td>\n",
       "      <td>1260955</td>\n",
       "      <td>0.627</td>\n",
       "      <td>Northern Ireland</td>\n",
       "      <td>62.7</td>\n",
       "    </tr>\n",
       "  </tbody>\n",
       "</table>\n",
       "</div>"
      ],
      "text/plain": [
       "                      region  electorate  turnout           country  \\\n",
       "7         South East England     6465404    0.768           England   \n",
       "8         South West England     4138134    0.767           England   \n",
       "1            East of England     4398796    0.757           England   \n",
       "0              East Midlands     3384299    0.742           England   \n",
       "10             West Midlands     4116572    0.720           England   \n",
       "9                      Wales     2270272    0.717             Wales   \n",
       "11  Yorkshire and the Humber     3877780    0.707           England   \n",
       "4         North West England     5241568    0.700           England   \n",
       "2             Greater London     5424768    0.697           England   \n",
       "3         North East England     1934341    0.693           England   \n",
       "6                   Scotland     3987112    0.672          Scotland   \n",
       "5           Northern Ireland     1260955    0.627  Northern Ireland   \n",
       "\n",
       "    turnout_percent  \n",
       "7              76.8  \n",
       "8              76.7  \n",
       "1              75.7  \n",
       "0              74.2  \n",
       "10             72.0  \n",
       "9              71.7  \n",
       "11             70.7  \n",
       "4              70.0  \n",
       "2              69.7  \n",
       "3              69.3  \n",
       "6              67.2  \n",
       "5              62.7  "
      ]
     },
     "execution_count": 47,
     "metadata": {},
     "output_type": "execute_result"
    }
   ],
   "source": [
    "results.sort_values('turnout', ascending=False)"
   ]
  },
  {
   "cell_type": "markdown",
   "metadata": {},
   "source": [
    "A neat trick we can try is to get a description of each of the numeric fields in the dataframe. We will be able to see the following statistics:\n",
    "\n",
    "- count of records\n",
    "- mean\n",
    "- standard deviation\n",
    "- minimum and maximum values\n",
    "- percentiles"
   ]
  },
  {
   "cell_type": "code",
   "execution_count": 48,
   "metadata": {},
   "outputs": [
    {
     "data": {
      "text/html": [
       "<div>\n",
       "<style scoped>\n",
       "    .dataframe tbody tr th:only-of-type {\n",
       "        vertical-align: middle;\n",
       "    }\n",
       "\n",
       "    .dataframe tbody tr th {\n",
       "        vertical-align: top;\n",
       "    }\n",
       "\n",
       "    .dataframe thead th {\n",
       "        text-align: right;\n",
       "    }\n",
       "</style>\n",
       "<table border=\"1\" class=\"dataframe\">\n",
       "  <thead>\n",
       "    <tr style=\"text-align: right;\">\n",
       "      <th></th>\n",
       "      <th>electorate</th>\n",
       "      <th>turnout</th>\n",
       "      <th>turnout_percent</th>\n",
       "    </tr>\n",
       "  </thead>\n",
       "  <tbody>\n",
       "    <tr>\n",
       "      <th>count</th>\n",
       "      <td>1.200000e+01</td>\n",
       "      <td>12.000000</td>\n",
       "      <td>12.000000</td>\n",
       "    </tr>\n",
       "    <tr>\n",
       "      <th>mean</th>\n",
       "      <td>3.875000e+06</td>\n",
       "      <td>0.713917</td>\n",
       "      <td>71.391667</td>\n",
       "    </tr>\n",
       "    <tr>\n",
       "      <th>std</th>\n",
       "      <td>1.501797e+06</td>\n",
       "      <td>0.041243</td>\n",
       "      <td>4.124309</td>\n",
       "    </tr>\n",
       "    <tr>\n",
       "      <th>min</th>\n",
       "      <td>1.260955e+06</td>\n",
       "      <td>0.627000</td>\n",
       "      <td>62.700000</td>\n",
       "    </tr>\n",
       "    <tr>\n",
       "      <th>25%</th>\n",
       "      <td>3.105792e+06</td>\n",
       "      <td>0.696000</td>\n",
       "      <td>69.600000</td>\n",
       "    </tr>\n",
       "    <tr>\n",
       "      <th>50%</th>\n",
       "      <td>4.051842e+06</td>\n",
       "      <td>0.712000</td>\n",
       "      <td>71.200000</td>\n",
       "    </tr>\n",
       "    <tr>\n",
       "      <th>75%</th>\n",
       "      <td>4.609489e+06</td>\n",
       "      <td>0.745750</td>\n",
       "      <td>74.575000</td>\n",
       "    </tr>\n",
       "    <tr>\n",
       "      <th>max</th>\n",
       "      <td>6.465404e+06</td>\n",
       "      <td>0.768000</td>\n",
       "      <td>76.800000</td>\n",
       "    </tr>\n",
       "  </tbody>\n",
       "</table>\n",
       "</div>"
      ],
      "text/plain": [
       "         electorate    turnout  turnout_percent\n",
       "count  1.200000e+01  12.000000        12.000000\n",
       "mean   3.875000e+06   0.713917        71.391667\n",
       "std    1.501797e+06   0.041243         4.124309\n",
       "min    1.260955e+06   0.627000        62.700000\n",
       "25%    3.105792e+06   0.696000        69.600000\n",
       "50%    4.051842e+06   0.712000        71.200000\n",
       "75%    4.609489e+06   0.745750        74.575000\n",
       "max    6.465404e+06   0.768000        76.800000"
      ]
     },
     "execution_count": 48,
     "metadata": {},
     "output_type": "execute_result"
    }
   ],
   "source": [
    "results.describe()"
   ]
  },
  {
   "cell_type": "markdown",
   "metadata": {},
   "source": [
    "### 5. Visualisation"
   ]
  },
  {
   "cell_type": "markdown",
   "metadata": {},
   "source": [
    "Finally, let's visualise this dataset. First, we need to enable plotting inside the Jupyter Notebook."
   ]
  },
  {
   "cell_type": "code",
   "execution_count": 49,
   "metadata": {},
   "outputs": [],
   "source": [
    "# this line is a \"magic\" function, and allows plots to display inside our notebook\n",
    "%matplotlib inline"
   ]
  },
  {
   "cell_type": "code",
   "execution_count": 50,
   "metadata": {},
   "outputs": [
    {
     "data": {
      "text/plain": [
       "<matplotlib.axes._subplots.AxesSubplot at 0x7fe6e8602da0>"
      ]
     },
     "execution_count": 50,
     "metadata": {},
     "output_type": "execute_result"
    },
    {
     "data": {
      "image/png": "[encoded data removed]",
      "text/plain": [
       "<Figure size 432x288 with 1 Axes>"
      ]
     },
     "metadata": {
      "needs_background": "light"
     },
     "output_type": "display_data"
    }
   ],
   "source": [
    "# You can plot pandas objects using the `.plot()` method on any dataframe\n",
    "results.turnout_percent.plot(kind='bar')"
   ]
  },
  {
   "cell_type": "code",
   "execution_count": 51,
   "metadata": {},
   "outputs": [
    {
     "name": "stderr",
     "output_type": "stream",
     "text": [
      "/usr/local/anaconda3/lib/python3.7/site-packages/statsmodels/tools/_testing.py:19: FutureWarning: pandas.util.testing is deprecated. Use the functions in the public API at pandas.testing instead.\n",
      "  import pandas.util.testing as tm\n"
     ]
    },
    {
     "data": {
      "text/plain": [
       "<matplotlib.axes._subplots.AxesSubplot at 0x7fe6d8fad710>"
      ]
     },
     "execution_count": 51,
     "metadata": {},
     "output_type": "execute_result"
    },
    {
     "data": {
      "image/png": "[encoded data removed]",
      "text/plain": [
       "<Figure size 432x288 with 1 Axes>"
      ]
     },
     "metadata": {
      "needs_background": "light"
     },
     "output_type": "display_data"
    }
   ],
   "source": [
    "# We can also try seaborn\n",
    "import seaborn as sns\n",
    "\n",
    "sns.barplot(y='region', x='turnout_percent', data=results, orient='h')"
   ]
  },
  {
   "cell_type": "code",
   "execution_count": 52,
   "metadata": {},
   "outputs": [
    {
     "data": {
      "text/plain": [
       "[Text(0, 0.5, 'Turnout (%)'),\n",
       " Text(0.5, 0, 'Region'),\n",
       " Text(0.5, 1.0, 'Turnout by region')]"
      ]
     },
     "execution_count": 52,
     "metadata": {},
     "output_type": "execute_result"
    },
    {
     "data": {
      "image/png": "[encoded data removed]",
      "text/plain": [
       "<Figure size 432x288 with 1 Axes>"
      ]
     },
     "metadata": {
      "needs_background": "light"
     },
     "output_type": "display_data"
    }
   ],
   "source": [
    "# Let's sort the bars and add axis labels\n",
    "my_plot = sns.barplot(\n",
    "    y='region',\n",
    "    x='turnout_percent',\n",
    "    hue='country',\n",
    "    orient='h',\n",
    "    dodge=False,\n",
    "    data=results.sort_values('turnout_percent'),\n",
    ")\n",
    "my_plot.set(xlabel='Region', ylabel='Turnout (%)', title=\"Turnout by region\")"
   ]
  },
  {
   "cell_type": "code",
   "execution_count": 53,
   "metadata": {},
   "outputs": [
    {
     "data": {
      "text/html": [
       "<div>\n",
       "<style scoped>\n",
       "    .dataframe tbody tr th:only-of-type {\n",
       "        vertical-align: middle;\n",
       "    }\n",
       "\n",
       "    .dataframe tbody tr th {\n",
       "        vertical-align: top;\n",
       "    }\n",
       "\n",
       "    .dataframe thead th {\n",
       "        text-align: right;\n",
       "    }\n",
       "</style>\n",
       "<table border=\"1\" class=\"dataframe\">\n",
       "  <thead>\n",
       "    <tr style=\"text-align: right;\">\n",
       "      <th></th>\n",
       "      <th>region</th>\n",
       "      <th>electorate</th>\n",
       "      <th>turnout</th>\n",
       "      <th>country</th>\n",
       "      <th>turnout_percent</th>\n",
       "    </tr>\n",
       "  </thead>\n",
       "  <tbody>\n",
       "    <tr>\n",
       "      <th>0</th>\n",
       "      <td>East Midlands</td>\n",
       "      <td>3384299</td>\n",
       "      <td>0.742</td>\n",
       "      <td>England</td>\n",
       "      <td>74.2</td>\n",
       "    </tr>\n",
       "    <tr>\n",
       "      <th>1</th>\n",
       "      <td>East of England</td>\n",
       "      <td>4398796</td>\n",
       "      <td>0.757</td>\n",
       "      <td>England</td>\n",
       "      <td>75.7</td>\n",
       "    </tr>\n",
       "    <tr>\n",
       "      <th>2</th>\n",
       "      <td>Greater London</td>\n",
       "      <td>5424768</td>\n",
       "      <td>0.697</td>\n",
       "      <td>England</td>\n",
       "      <td>69.7</td>\n",
       "    </tr>\n",
       "    <tr>\n",
       "      <th>3</th>\n",
       "      <td>North East England</td>\n",
       "      <td>1934341</td>\n",
       "      <td>0.693</td>\n",
       "      <td>England</td>\n",
       "      <td>69.3</td>\n",
       "    </tr>\n",
       "    <tr>\n",
       "      <th>4</th>\n",
       "      <td>North West England</td>\n",
       "      <td>5241568</td>\n",
       "      <td>0.700</td>\n",
       "      <td>England</td>\n",
       "      <td>70.0</td>\n",
       "    </tr>\n",
       "  </tbody>\n",
       "</table>\n",
       "</div>"
      ],
      "text/plain": [
       "               region  electorate  turnout  country  turnout_percent\n",
       "0       East Midlands     3384299    0.742  England             74.2\n",
       "1     East of England     4398796    0.757  England             75.7\n",
       "2      Greater London     5424768    0.697  England             69.7\n",
       "3  North East England     1934341    0.693  England             69.3\n",
       "4  North West England     5241568    0.700  England             70.0"
      ]
     },
     "execution_count": 53,
     "metadata": {},
     "output_type": "execute_result"
    }
   ],
   "source": [
    "results.head()"
   ]
  },
  {
   "cell_type": "markdown",
   "metadata": {},
   "source": [
    "> **Exercise:** Using the seaborn [scatterplot](http://seaborn.pydata.org/generated/seaborn.scatterplot.html) function (`sns.scatterplot()`) create a scatterplot with:\n",
    "> - `'electorate'` on the x-axis\n",
    "> - `'turnout_percent'` on the y-axis\n",
    "> - you can keep `data=results`"
   ]
  },
  {
   "cell_type": "code",
   "execution_count": 54,
   "metadata": {},
   "outputs": [
    {
     "data": {
      "text/plain": [
       "<matplotlib.axes._subplots.AxesSubplot at 0x7fe71863a5f8>"
      ]
     },
     "execution_count": 54,
     "metadata": {},
     "output_type": "execute_result"
    },
    {
     "data": {
      "image/png": "[encoded data removed]",
      "text/plain": [
       "<Figure size 432x288 with 1 Axes>"
      ]
     },
     "metadata": {
      "needs_background": "light"
     },
     "output_type": "display_data"
    }
   ],
   "source": [
    "sns.scatterplot(x='electorate', y='turnout', data=results)"
   ]
  },
  {
   "cell_type": "markdown",
   "metadata": {},
   "source": [
    "> **Exercise:** Add `hue='country'` to your code above to colour code by country."
   ]
  },
  {
   "cell_type": "code",
   "execution_count": 55,
   "metadata": {},
   "outputs": [
    {
     "data": {
      "text/plain": [
       "<matplotlib.axes._subplots.AxesSubplot at 0x7fe6e0915a58>"
      ]
     },
     "execution_count": 55,
     "metadata": {},
     "output_type": "execute_result"
    },
    {
     "data": {
      "image/png": "[encoded data removed]",
      "text/plain": [
       "<Figure size 432x288 with 1 Axes>"
      ]
     },
     "metadata": {
      "needs_background": "light"
     },
     "output_type": "display_data"
    }
   ],
   "source": [
    "sns.scatterplot(x='electorate', y='turnout', data=results, hue='country')"
   ]
  }
 ],
 "metadata": {
  "kernelspec": {
   "display_name": "Python 3",
   "language": "python",
   "name": "python3"
  },
  "language_info": {
   "codemirror_mode": {
    "name": "ipython",
    "version": 3
   },
   "file_extension": ".py",
   "mimetype": "text/x-python",
   "name": "python",
   "nbconvert_exporter": "python",
   "pygments_lexer": "ipython3",
   "version": "3.7.3"
  }
 },
 "nbformat": 4,
 "nbformat_minor": 4
}
